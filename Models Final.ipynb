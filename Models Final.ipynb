{
 "cells": [
  {
   "cell_type": "code",
   "execution_count": 5,
   "metadata": {},
   "outputs": [],
   "source": [
    "from sklearn.linear_model import SGDRegressor\n",
    "from sklearn.linear_model import ElasticNet\n",
    "from sklearn.linear_model import Lasso\n",
    "from sklearn.svm import SVR\n",
    "from sklearn.svm import NuSVR\n",
    "from sklearn.linear_model import Ridge\n",
    "from sklearn.tree import DecisionTreeRegressor\n",
    "\n",
    "\n",
    "import numpy as np\n",
    "import pandas as pd\n",
    "\n",
    "import xgboost as xgb\n",
    "from xgboost import XGBRegressor\n",
    "\n",
    "from plotly import tools\n",
    "import plotly.plotly as py\n",
    "import plotly.graph_objs as go\n",
    "\n",
    "import hyperopt\n",
    "from hyperopt import hp\n",
    "import pandas as pd\n",
    "import numpy as np\n",
    "from sklearn.model_selection import cross_val_score, train_test_split, KFold\n",
    "\n",
    "from IPython.display import HTML as html_print\n",
    "from IPython.display import HTML\n",
    "from IPython.display import display\n",
    "\n",
    "from sklearn.model_selection import StratifiedShuffleSplit, cross_val_score\n",
    "from sklearn.model_selection import ShuffleSplit\n",
    "from sklearn.model_selection import GridSearchCV, RandomizedSearchCV\n",
    "from sklearn.metrics import fbeta_score, make_scorer\n",
    "\n",
    "import warnings\n",
    "warnings.filterwarnings('ignore')\n",
    "def normalize(df):\n",
    "    return (df - df.mean()) / (df.max() - df.min())\n",
    "\n",
    "def highlight_max(s, col=\"orange\"):\n",
    "    '''\n",
    "    Color the maximum value in column or row of the DataFrame into yellow.\n",
    "    :input: serires object\n",
    "    :return: colored object\n",
    "    '''\n",
    "    is_min = s == s.max()\n",
    "    return ['background-color: {}'.format(col) if v else '' for v in is_min]\n",
    "def highlight_min(s, col=\"yellow\"):\n",
    "    '''\n",
    "    Color the maximum value in column or row of the DataFrame into yellow.\n",
    "    :input: serires object\n",
    "    :return: colored object\n",
    "    '''\n",
    "    is_min = s == s.min()\n",
    "    return ['background-color: {}'.format(col) if v else '' for v in is_min]"
   ]
  },
  {
   "cell_type": "code",
   "execution_count": 23,
   "metadata": {},
   "outputs": [
    {
     "data": {
      "text/html": [
       "<div>\n",
       "<style scoped>\n",
       "    .dataframe tbody tr th:only-of-type {\n",
       "        vertical-align: middle;\n",
       "    }\n",
       "\n",
       "    .dataframe tbody tr th {\n",
       "        vertical-align: top;\n",
       "    }\n",
       "\n",
       "    .dataframe thead th {\n",
       "        text-align: right;\n",
       "    }\n",
       "</style>\n",
       "<table border=\"1\" class=\"dataframe\">\n",
       "  <thead>\n",
       "    <tr style=\"text-align: right;\">\n",
       "      <th></th>\n",
       "      <th>Unnamed: 0</th>\n",
       "      <th>Unnamed: 0.1</th>\n",
       "      <th>venue_id</th>\n",
       "      <th>latitude</th>\n",
       "      <th>longitude</th>\n",
       "      <th>density</th>\n",
       "      <th>neighbors_entropy</th>\n",
       "      <th>competitiveness</th>\n",
       "      <th>area_popularity</th>\n",
       "      <th>transition_density</th>\n",
       "      <th>incoming_flow</th>\n",
       "      <th>transition quality</th>\n",
       "      <th>n_same_business_in_area</th>\n",
       "      <th>target_check_ins</th>\n",
       "    </tr>\n",
       "  </thead>\n",
       "  <tbody>\n",
       "    <tr>\n",
       "      <th>count</th>\n",
       "      <td>277.00000</td>\n",
       "      <td>277.00000</td>\n",
       "      <td>277.000000</td>\n",
       "      <td>277.000000</td>\n",
       "      <td>277.000000</td>\n",
       "      <td>277.000000</td>\n",
       "      <td>277.000000</td>\n",
       "      <td>277.000000</td>\n",
       "      <td>277.000000</td>\n",
       "      <td>277.000000</td>\n",
       "      <td>277.00000</td>\n",
       "      <td>277.000000</td>\n",
       "      <td>277.000000</td>\n",
       "      <td>277.000000</td>\n",
       "    </tr>\n",
       "    <tr>\n",
       "      <th>mean</th>\n",
       "      <td>138.00000</td>\n",
       "      <td>138.00000</td>\n",
       "      <td>45750.075812</td>\n",
       "      <td>40.737317</td>\n",
       "      <td>-73.919080</td>\n",
       "      <td>84.368231</td>\n",
       "      <td>5.850152</td>\n",
       "      <td>-0.075076</td>\n",
       "      <td>1561.718412</td>\n",
       "      <td>301.205776</td>\n",
       "      <td>479.65343</td>\n",
       "      <td>19.815884</td>\n",
       "      <td>0.122744</td>\n",
       "      <td>269.801444</td>\n",
       "    </tr>\n",
       "    <tr>\n",
       "      <th>std</th>\n",
       "      <td>80.10722</td>\n",
       "      <td>80.10722</td>\n",
       "      <td>24741.965122</td>\n",
       "      <td>0.079282</td>\n",
       "      <td>0.135762</td>\n",
       "      <td>101.946214</td>\n",
       "      <td>2.079991</td>\n",
       "      <td>0.090120</td>\n",
       "      <td>2647.804810</td>\n",
       "      <td>511.992560</td>\n",
       "      <td>834.76944</td>\n",
       "      <td>30.484708</td>\n",
       "      <td>0.465579</td>\n",
       "      <td>267.019269</td>\n",
       "    </tr>\n",
       "    <tr>\n",
       "      <th>min</th>\n",
       "      <td>0.00000</td>\n",
       "      <td>0.00000</td>\n",
       "      <td>162.000000</td>\n",
       "      <td>40.516800</td>\n",
       "      <td>-74.233310</td>\n",
       "      <td>1.000000</td>\n",
       "      <td>0.000000</td>\n",
       "      <td>-1.000000</td>\n",
       "      <td>0.000000</td>\n",
       "      <td>0.000000</td>\n",
       "      <td>0.00000</td>\n",
       "      <td>0.000000</td>\n",
       "      <td>0.000000</td>\n",
       "      <td>6.000000</td>\n",
       "    </tr>\n",
       "    <tr>\n",
       "      <th>25%</th>\n",
       "      <td>69.00000</td>\n",
       "      <td>69.00000</td>\n",
       "      <td>26240.000000</td>\n",
       "      <td>40.700645</td>\n",
       "      <td>-73.997420</td>\n",
       "      <td>14.000000</td>\n",
       "      <td>4.125843</td>\n",
       "      <td>-0.100000</td>\n",
       "      <td>52.000000</td>\n",
       "      <td>11.000000</td>\n",
       "      <td>13.00000</td>\n",
       "      <td>1.000000</td>\n",
       "      <td>0.000000</td>\n",
       "      <td>110.000000</td>\n",
       "    </tr>\n",
       "    <tr>\n",
       "      <th>50%</th>\n",
       "      <td>138.00000</td>\n",
       "      <td>138.00000</td>\n",
       "      <td>48149.000000</td>\n",
       "      <td>40.736797</td>\n",
       "      <td>-73.957750</td>\n",
       "      <td>27.000000</td>\n",
       "      <td>5.665379</td>\n",
       "      <td>-0.051282</td>\n",
       "      <td>234.000000</td>\n",
       "      <td>49.000000</td>\n",
       "      <td>55.00000</td>\n",
       "      <td>4.000000</td>\n",
       "      <td>0.000000</td>\n",
       "      <td>194.000000</td>\n",
       "    </tr>\n",
       "    <tr>\n",
       "      <th>75%</th>\n",
       "      <td>207.00000</td>\n",
       "      <td>207.00000</td>\n",
       "      <td>66822.000000</td>\n",
       "      <td>40.777530</td>\n",
       "      <td>-73.857170</td>\n",
       "      <td>141.000000</td>\n",
       "      <td>7.598930</td>\n",
       "      <td>-0.021739</td>\n",
       "      <td>1783.000000</td>\n",
       "      <td>347.000000</td>\n",
       "      <td>582.00000</td>\n",
       "      <td>30.000000</td>\n",
       "      <td>0.000000</td>\n",
       "      <td>331.000000</td>\n",
       "    </tr>\n",
       "    <tr>\n",
       "      <th>max</th>\n",
       "      <td>276.00000</td>\n",
       "      <td>276.00000</td>\n",
       "      <td>85297.000000</td>\n",
       "      <td>40.959766</td>\n",
       "      <td>-73.516380</td>\n",
       "      <td>396.000000</td>\n",
       "      <td>10.556083</td>\n",
       "      <td>0.000000</td>\n",
       "      <td>13152.000000</td>\n",
       "      <td>2651.000000</td>\n",
       "      <td>4209.00000</td>\n",
       "      <td>139.000000</td>\n",
       "      <td>3.000000</td>\n",
       "      <td>2412.000000</td>\n",
       "    </tr>\n",
       "  </tbody>\n",
       "</table>\n",
       "</div>"
      ],
      "text/plain": [
       "       Unnamed: 0  Unnamed: 0.1      venue_id    latitude   longitude  \\\n",
       "count   277.00000     277.00000    277.000000  277.000000  277.000000   \n",
       "mean    138.00000     138.00000  45750.075812   40.737317  -73.919080   \n",
       "std      80.10722      80.10722  24741.965122    0.079282    0.135762   \n",
       "min       0.00000       0.00000    162.000000   40.516800  -74.233310   \n",
       "25%      69.00000      69.00000  26240.000000   40.700645  -73.997420   \n",
       "50%     138.00000     138.00000  48149.000000   40.736797  -73.957750   \n",
       "75%     207.00000     207.00000  66822.000000   40.777530  -73.857170   \n",
       "max     276.00000     276.00000  85297.000000   40.959766  -73.516380   \n",
       "\n",
       "          density  neighbors_entropy  competitiveness  area_popularity  \\\n",
       "count  277.000000         277.000000       277.000000       277.000000   \n",
       "mean    84.368231           5.850152        -0.075076      1561.718412   \n",
       "std    101.946214           2.079991         0.090120      2647.804810   \n",
       "min      1.000000           0.000000        -1.000000         0.000000   \n",
       "25%     14.000000           4.125843        -0.100000        52.000000   \n",
       "50%     27.000000           5.665379        -0.051282       234.000000   \n",
       "75%    141.000000           7.598930        -0.021739      1783.000000   \n",
       "max    396.000000          10.556083         0.000000     13152.000000   \n",
       "\n",
       "       transition_density  incoming_flow  transition quality  \\\n",
       "count          277.000000      277.00000          277.000000   \n",
       "mean           301.205776      479.65343           19.815884   \n",
       "std            511.992560      834.76944           30.484708   \n",
       "min              0.000000        0.00000            0.000000   \n",
       "25%             11.000000       13.00000            1.000000   \n",
       "50%             49.000000       55.00000            4.000000   \n",
       "75%            347.000000      582.00000           30.000000   \n",
       "max           2651.000000     4209.00000          139.000000   \n",
       "\n",
       "       n_same_business_in_area  target_check_ins  \n",
       "count               277.000000        277.000000  \n",
       "mean                  0.122744        269.801444  \n",
       "std                   0.465579        267.019269  \n",
       "min                   0.000000          6.000000  \n",
       "25%                   0.000000        110.000000  \n",
       "50%                   0.000000        194.000000  \n",
       "75%                   0.000000        331.000000  \n",
       "max                   3.000000       2412.000000  "
      ]
     },
     "execution_count": 23,
     "metadata": {},
     "output_type": "execute_result"
    }
   ],
   "source": [
    "# extracting data\n",
    "data = pd.read_csv('shared_data/features.csv')\n",
    "data.describe()"
   ]
  },
  {
   "cell_type": "code",
   "execution_count": 24,
   "metadata": {},
   "outputs": [],
   "source": [
    "X_all = data[['density','neighbors_entropy','competitiveness','area_popularity','transition_density','incoming_flow','transition quality']]\n",
    "X_geografical = data[['density','neighbors_entropy','competitiveness', 'n_same_business_in_area']]\n",
    "X_mobility = data[['area_popularity','transition_density','incoming_flow','transition quality']]\n",
    "y = data['target_check_ins']\n",
    "\n",
    "#Normalizing works not so good for that task so it was decidet not to use it\n",
    "# X = normalize(X)\n",
    "# X_geografical = normalize(X_geografical)\n",
    "# X_mobility = normalize(X_mobility)\n",
    "# y = normalize(y)\n",
    "\n",
    "X_train, X_test, y_train, y_test = train_test_split(X_all, y, test_size=0.2, random_state=2018)"
   ]
  },
  {
   "cell_type": "code",
   "execution_count": 25,
   "metadata": {},
   "outputs": [],
   "source": [
    "# sklearn grids\n",
    "grid_SGD = {'alpha':hp.uniform('alpha', 0, 0.3),\n",
    "            'penalty': hp.choice('penalty',['l2', 'l1', 'elasticnet'])}\n",
    "grid_DecisionTreeRegressor = {\n",
    "                              'random_state':hp.quniform('random_state', 1, 20, q=1),\n",
    "                              'max_depth': hp.quniform('max_depth', 1, 30, q=1)\n",
    "                                }\n",
    "grid_Lasso = {  'alpha':hp.uniform('alpha', 0, 2),\n",
    "                'random_state':hp.quniform('random_state', 1, 20, q=1),\n",
    "                'max_iter': hp.quniform('max_iter', 1, 20000, q=1)}\n",
    "                                \n",
    "\n",
    "grid_Elastic = {'alpha':hp.uniform('alpha', 0, 2),\n",
    "                'random_state':hp.quniform('random_state', 1, 20, q=1),\n",
    "                'max_iter': hp.quniform('max_iter', 1, 20000, q=1)\n",
    "                                }\n",
    "\n",
    "grid_Ridge =  { 'alpha':hp.uniform('alpha', 0, 3),\n",
    "                'random_state':hp.quniform('random_state', 1, 20, q=1),\n",
    "                'solver':hp.choice('solver', ['auto', 'svd', 'cholesky', 'lsqr', 'sparse_cg', 'sag', 'saga'])\n",
    "                                }\n",
    "\n",
    "grids = [grid_SGD,grid_DecisionTreeRegressor,grid_Lasso,grid_Elastic,grid_Ridge]"
   ]
  },
  {
   "cell_type": "code",
   "execution_count": 14,
   "metadata": {},
   "outputs": [],
   "source": [
    "#defining metric ndcg\n",
    "def ndcg(y_real, y_pred, p=10):\n",
    "    to_test = pd.DataFrame({'real':y_real, 'predicted':y_pred})\n",
    "    to_test = to_test.sort_values(by = 'real', ascending=False)\n",
    "    to_test['real_ratings'] = [abs(x) for x in range(-len(to_test),0)]\n",
    "    to_test = to_test.sort_values(by = 'predicted', ascending=False)\n",
    "    rr = list(to_test.head(p).real_ratings)\n",
    "    dcg = 0\n",
    "    idcg = 0\n",
    "    for i in range(len(rr)):\n",
    "        dcg+=rr[i]/np.log2(i+2)\n",
    "        idcg+=(len(to_test)-i)/np.log2(i+2)\n",
    "    return dcg/idcg\n",
    "\n",
    "# making custom scorer out of ndcg for cv\n",
    "ndcg_scorer = make_scorer(ndcg)"
   ]
  },
  {
   "cell_type": "code",
   "execution_count": 15,
   "metadata": {},
   "outputs": [],
   "source": [
    "# Defining functions for alghorithms for futher TPE hyperparametres optimization\n",
    "class SGD_reg:\n",
    "\n",
    "    def __init__(self, X, y):\n",
    "        self.X = X\n",
    "        self.y = y\n",
    "\n",
    "    # Calculate cross validation score (default is10-fold CV)\n",
    "    def __call__(self, X, cv=10):\n",
    "        # Make the SVM classifire with  the specific 'C' and 'degree'\n",
    "        reg = SGDRegressor(alpha = X['alpha'], penalty=X['penalty'])\n",
    "        # Compute the CV score\n",
    "        accuracy = cross_val_score(reg, self.X, self.y, scoring=ndcg_scorer, cv=KFold(n_splits=cv, shuffle=False, random_state=2))\n",
    "        accuracy = np.mean(accuracy)\n",
    "        #print(accuracy, X)\n",
    "        return 1. - accuracy    # for minimization\n",
    "    \n",
    "    \n",
    "class DT_reg:\n",
    "\n",
    "    def __init__(self, X, y):\n",
    "        self.X = X\n",
    "        self.y = y\n",
    "\n",
    "    # Calculate cross validation score (default is10-fold CV)\n",
    "    def __call__(self, X, cv=10):\n",
    "        # Make the SVM classifire with  the specific 'C' and 'degree'\n",
    "        reg = DecisionTreeRegressor(random_state=int(X['random_state']), max_depth = X['max_depth'])\n",
    "        # Compute the CV score\n",
    "        accuracy = cross_val_score(reg, self.X, self.y, scoring=ndcg_scorer, cv=KFold(n_splits=cv, shuffle=False, random_state=2))\n",
    "        accuracy = np.mean(accuracy)\n",
    "        #print(accuracy, X)\n",
    "        return 1. - accuracy    # for minimization\n",
    "\n",
    "    \n",
    "    \n",
    "class Lasso_reg:\n",
    "\n",
    "    def __init__(self, X, y):\n",
    "        self.X = X\n",
    "        self.y = y\n",
    "\n",
    "    # Calculate cross validation score (default is10-fold CV)\n",
    "    def __call__(self, X, cv=10):\n",
    "        # Make the SVM classifire with  the specific 'C' and 'degree'\n",
    "        reg = Lasso(alpha = X['alpha'], random_state=int(X['random_state']), max_iter=X['max_iter'])\n",
    "        # Compute the CV score\n",
    "        accuracy = cross_val_score(reg, self.X, self.y, scoring=ndcg_scorer, cv=KFold(n_splits=cv, shuffle=False, random_state=2))\n",
    "        accuracy = np.mean(accuracy)\n",
    "        #print(accuracy, X)\n",
    "        return 1. - accuracy    # for minimization\n",
    "\n",
    "\n",
    "\n",
    "class Elastic_reg:\n",
    "\n",
    "    def __init__(self, X, y):\n",
    "        self.X = X\n",
    "        self.y = y\n",
    "\n",
    "    # Calculate cross validation score (default is10-fold CV)\n",
    "    def __call__(self, X, cv=10):\n",
    "        # Make the SVM classifire with  the specific 'C' and 'degree'\n",
    "        reg = ElasticNet(alpha = X['alpha'], random_state=int(X['random_state']), max_iter=X['max_iter'])\n",
    "        # Compute the CV score\n",
    "        accuracy = cross_val_score(reg, self.X, self.y, scoring=ndcg_scorer, cv=KFold(n_splits=cv, shuffle=False, random_state=2))\n",
    "        accuracy = np.mean(accuracy)\n",
    "        #print(accuracy, X)\n",
    "        return 1. - accuracy    # for minimization\n",
    "    \n",
    "    \n",
    "class Ridge_reg:\n",
    "\n",
    "    def __init__(self, X, y):\n",
    "        self.X = X\n",
    "        self.y = y\n",
    "\n",
    "    # Calculate cross validation score (default is10-fold CV)\n",
    "    def __call__(self, X, cv=10):\n",
    "        # Make the SVM classifire with  the specific 'C' and 'degree'\n",
    "        reg = Ridge(random_state=int(X['random_state']), solver = X['solver'], alpha = X['alpha'])\n",
    "        # Compute the CV score\n",
    "        accuracy = cross_val_score(reg, self.X, self.y, scoring=ndcg_scorer, cv=KFold(n_splits=cv, shuffle=False, random_state=2))\n",
    "        accuracy = np.mean(accuracy)\n",
    "        #print(accuracy, X)\n",
    "        return 1. - accuracy    # for minimization\n",
    "    \n",
    "    \n",
    "functions = [SGD_reg,DT_reg,Lasso_reg,Elastic_reg,Ridge_reg]"
   ]
  },
  {
   "cell_type": "markdown",
   "metadata": {},
   "source": [
    "### Parametres tuning"
   ]
  },
  {
   "cell_type": "code",
   "execution_count": 16,
   "metadata": {},
   "outputs": [
    {
     "name": "stdout",
     "output_type": "stream",
     "text": [
      "SGDRegressor\n",
      "best estimate parameters {'alpha': 0.07989027241023866, 'penalty': 0}\n",
      "DecisionTreeRegressor\n",
      "best estimate parameters {'max_depth': 5.0, 'random_state': 2.0}\n",
      "ElasticNet\n",
      "best estimate parameters {'alpha': 0.06071453310347545, 'max_iter': 22.0, 'random_state': 8.0}\n",
      "Lasso\n",
      "best estimate parameters {'alpha': 1.3823151889029495, 'max_iter': 119.0, 'random_state': 6.0}\n",
      "Ridge\n",
      "best estimate parameters {'alpha': 2.8689495703391605, 'random_state': 2.0, 'solver': 4}\n"
     ]
    }
   ],
   "source": [
    "# tuned parametres \n",
    "\n",
    "\n",
    "regg_n = ['SGDRegressor', 'DecisionTreeRegressor', 'ElasticNet', 'Lasso', 'Ridge']\n",
    "\n",
    "regressors = [\n",
    "               SGDRegressor(alpha= 0.05833538843265764, penalty='elasticnet'), \n",
    "               DecisionTreeRegressor(max_depth= 5.0, random_state= 1),\n",
    "               ElasticNet(alpha=  0.009508270512716577, max_iter =  17000, random_state = 14), \n",
    "               Lasso(alpha =  0.714115650589215, max_iter = 1300, random_state =  3),\n",
    "               Ridge(random_state =  4, solver = 'sparse_cg', alpha =  2.9020733918824244)\n",
    "]\n",
    "\n",
    "for func, grid, reg, name in zip(functions, grids, regressors, regg_n):\n",
    "    # Objective function\n",
    "    f = func(X_train, y_train)\n",
    "    trials = hyperopt.Trials()\n",
    "    # Run TPE\n",
    "    best = hyperopt.fmin(f, grid, algo=hyperopt.tpe.suggest, max_evals=25, trials=trials, verbose=1)\n",
    "    print(name)\n",
    "    print(\"best estimate parameters\", best)"
   ]
  },
  {
   "cell_type": "code",
   "execution_count": 21,
   "metadata": {
    "scrolled": false
   },
   "outputs": [
    {
     "name": "stdout",
     "output_type": "stream",
     "text": [
      "SGDRegressor(alpha=0.05833538843265764, average=False, epsilon=0.1, eta0=0.01,\n",
      "       fit_intercept=True, l1_ratio=0.15, learning_rate='invscaling',\n",
      "       loss='squared_loss', max_iter=5, n_iter=None, penalty='elasticnet',\n",
      "       power_t=0.25, random_state=None, shuffle=True, tol=None, verbose=0,\n",
      "       warm_start=False)\n",
      "0.5898927050537618\n",
      "0.2504895652943474\n",
      "DecisionTreeRegressor(criterion='mse', max_depth=5.0, max_features=None,\n",
      "           max_leaf_nodes=None, min_impurity_decrease=0.0,\n",
      "           min_impurity_split=None, min_samples_leaf=1,\n",
      "           min_samples_split=2, min_weight_fraction_leaf=0.0,\n",
      "           presort=False, random_state=1, splitter='best')\n",
      "0.8249987110657402\n",
      "0.06366590877512945\n",
      "ElasticNet(alpha=0.009508270512716577, copy_X=True, fit_intercept=True,\n",
      "      l1_ratio=0.5, max_iter=17000, normalize=False, positive=False,\n",
      "      precompute=False, random_state=14, selection='cyclic', tol=0.0001,\n",
      "      warm_start=False)\n",
      "0.831875908804635\n",
      "0.06292461289422473\n",
      "Lasso(alpha=0.714115650589215, copy_X=True, fit_intercept=True, max_iter=1300,\n",
      "   normalize=False, positive=False, precompute=False, random_state=3,\n",
      "   selection='cyclic', tol=0.0001, warm_start=False)\n",
      "0.8323568277136488\n",
      "0.06481057315424389\n",
      "Ridge(alpha=2.9020733918824244, copy_X=True, fit_intercept=True,\n",
      "   max_iter=None, normalize=False, random_state=4, solver='sparse_cg',\n",
      "   tol=0.001)\n",
      "0.8422784182082801\n",
      "0.044113714227302404\n"
     ]
    }
   ],
   "source": [
    "accuracy_m = []\n",
    "accuracy_s = []\n",
    "regressors = [\n",
    "               SGDRegressor(alpha= 0.05833538843265764, penalty='elasticnet'), \n",
    "               DecisionTreeRegressor(max_depth= 5.0, random_state= 1),\n",
    "               ElasticNet(alpha=  0.009508270512716577, max_iter =  17000, random_state = 14), \n",
    "               Lasso(alpha =  0.714115650589215, max_iter = 1300, random_state =  3),\n",
    "               Ridge(random_state =  4, solver = 'sparse_cg', alpha =  2.9020733918824244)\n",
    "]\n",
    "for regg in regressors: \n",
    "    accuracy = cross_val_score(regg, X_train, y_train, scoring=ndcg_scorer, cv=KFold(n_splits=5, shuffle=True,  random_state=2))\n",
    "    accuracy_mean = np.mean(accuracy)\n",
    "    accuracy_std = np.std(accuracy)\n",
    "    accuracy_m.append(accuracy_mean)\n",
    "    accuracy_s.append(accuracy_std)\n",
    "    print(regg)\n",
    "    print(accuracy_mean)\n",
    "    print(accuracy_std)"
   ]
  },
  {
   "cell_type": "code",
   "execution_count": 22,
   "metadata": {},
   "outputs": [
    {
     "name": "stdout",
     "output_type": "stream",
     "text": [
      "\n"
     ]
    },
    {
     "data": {
      "text/html": [
       "<p style='font-weight: bold; color:black; font-size:200%; font-family:verdana;text-align:center;'> Ranking metrics NDCG@10 without Normalization</p>"
      ],
      "text/plain": [
       "<IPython.core.display.HTML object>"
      ]
     },
     "metadata": {},
     "output_type": "display_data"
    },
    {
     "name": "stdout",
     "output_type": "stream",
     "text": [
      "\n"
     ]
    },
    {
     "data": {
      "text/html": [
       "<style  type=\"text/css\" >\n",
       "    #T_db1694a4_958e_11e8_93a6_cc2f71213f03row0_col0 {\n",
       "            background-color:  orange;\n",
       "        }    #T_db1694a4_958e_11e8_93a6_cc2f71213f03row4_col1 {\n",
       "            background-color:  orange;\n",
       "        }</style>  \n",
       "<table id=\"T_db1694a4_958e_11e8_93a6_cc2f71213f03\" > \n",
       "<thead>    <tr> \n",
       "        <th class=\"blank level0\" ></th> \n",
       "        <th class=\"col_heading level0 col0\" >cross_val_ndcg_mean</th> \n",
       "        <th class=\"col_heading level0 col1\" >cross_val_ndcg_std</th> \n",
       "    </tr></thead> \n",
       "<tbody>    <tr> \n",
       "        <th id=\"T_db1694a4_958e_11e8_93a6_cc2f71213f03level0_row0\" class=\"row_heading level0 row0\" >Ridge</th> \n",
       "        <td id=\"T_db1694a4_958e_11e8_93a6_cc2f71213f03row0_col0\" class=\"data row0 col0\" >0.842278</td> \n",
       "        <td id=\"T_db1694a4_958e_11e8_93a6_cc2f71213f03row0_col1\" class=\"data row0 col1\" >0.0441137</td> \n",
       "    </tr>    <tr> \n",
       "        <th id=\"T_db1694a4_958e_11e8_93a6_cc2f71213f03level0_row1\" class=\"row_heading level0 row1\" >Lasso</th> \n",
       "        <td id=\"T_db1694a4_958e_11e8_93a6_cc2f71213f03row1_col0\" class=\"data row1 col0\" >0.832357</td> \n",
       "        <td id=\"T_db1694a4_958e_11e8_93a6_cc2f71213f03row1_col1\" class=\"data row1 col1\" >0.0648106</td> \n",
       "    </tr>    <tr> \n",
       "        <th id=\"T_db1694a4_958e_11e8_93a6_cc2f71213f03level0_row2\" class=\"row_heading level0 row2\" >ElasticNet</th> \n",
       "        <td id=\"T_db1694a4_958e_11e8_93a6_cc2f71213f03row2_col0\" class=\"data row2 col0\" >0.831876</td> \n",
       "        <td id=\"T_db1694a4_958e_11e8_93a6_cc2f71213f03row2_col1\" class=\"data row2 col1\" >0.0629246</td> \n",
       "    </tr>    <tr> \n",
       "        <th id=\"T_db1694a4_958e_11e8_93a6_cc2f71213f03level0_row3\" class=\"row_heading level0 row3\" >DecisionTreeRegressor</th> \n",
       "        <td id=\"T_db1694a4_958e_11e8_93a6_cc2f71213f03row3_col0\" class=\"data row3 col0\" >0.824999</td> \n",
       "        <td id=\"T_db1694a4_958e_11e8_93a6_cc2f71213f03row3_col1\" class=\"data row3 col1\" >0.0636659</td> \n",
       "    </tr>    <tr> \n",
       "        <th id=\"T_db1694a4_958e_11e8_93a6_cc2f71213f03level0_row4\" class=\"row_heading level0 row4\" >SGDRegressor</th> \n",
       "        <td id=\"T_db1694a4_958e_11e8_93a6_cc2f71213f03row4_col0\" class=\"data row4 col0\" >0.589893</td> \n",
       "        <td id=\"T_db1694a4_958e_11e8_93a6_cc2f71213f03row4_col1\" class=\"data row4 col1\" >0.25049</td> \n",
       "    </tr></tbody> \n",
       "</table> "
      ],
      "text/plain": [
       "<pandas.io.formats.style.Styler at 0x1cdab2fe9e8>"
      ]
     },
     "execution_count": 22,
     "metadata": {},
     "output_type": "execute_result"
    }
   ],
   "source": [
    "print(  )\n",
    "display(html_print(\"<p style='font-weight: bold; color:black; font-size:200%; font-family:verdana;text-align:center;'> Ranking metrics NDCG@10 without Normalization</p>\"))\n",
    "print() \n",
    "    \n",
    "res = pd.DataFrame({'cross_val_ndcg_mean':accuracy_m, 'cross_val_ndcg_std':accuracy_s}, index = regg_n)\n",
    "res = res.sort_values('cross_val_ndcg_mean', ascending = False).style.apply(lambda x: highlight_max(x, col=\"orange\"), axis=0)\n",
    "\n",
    "res"
   ]
  },
  {
   "cell_type": "code",
   "execution_count": 20,
   "metadata": {
    "scrolled": false
   },
   "outputs": [
    {
     "name": "stdout",
     "output_type": "stream",
     "text": [
      "Aw, snap! We didn't get a username with your request.\n",
      "\n",
      "Don't have an account? https://plot.ly/api_signup\n",
      "\n",
      "Questions? accounts@plot.ly\n"
     ]
    },
    {
     "ename": "PlotlyError",
     "evalue": "Because you didn't supply a 'file_id' in the call, we're assuming you're trying to snag a figure from a url. You supplied the url, '', we expected it to start with 'https://plot.ly'.\nRun help on this function for more information.",
     "output_type": "error",
     "traceback": [
      "\u001b[1;31m---------------------------------------------------------------------------\u001b[0m",
      "\u001b[1;31mPlotlyError\u001b[0m                               Traceback (most recent call last)",
      "\u001b[1;32m<ipython-input-20-6427e0778e5d>\u001b[0m in \u001b[0;36m<module>\u001b[1;34m()\u001b[0m\n\u001b[0;32m     11\u001b[0m ]\n\u001b[0;32m     12\u001b[0m \u001b[1;33m\u001b[0m\u001b[0m\n\u001b[1;32m---> 13\u001b[1;33m \u001b[0mpy\u001b[0m\u001b[1;33m.\u001b[0m\u001b[0miplot\u001b[0m\u001b[1;33m(\u001b[0m\u001b[0mdatap\u001b[0m\u001b[1;33m,\u001b[0m \u001b[0mfilename\u001b[0m\u001b[1;33m=\u001b[0m\u001b[1;34m'binning function'\u001b[0m\u001b[1;33m)\u001b[0m\u001b[1;33m\u001b[0m\u001b[0m\n\u001b[0m",
      "\u001b[1;32mC:\\Programs\\Anaconda\\lib\\site-packages\\plotly\\plotly\\plotly.py\u001b[0m in \u001b[0;36miplot\u001b[1;34m(figure_or_data, **plot_options)\u001b[0m\n\u001b[0;32m    171\u001b[0m         \u001b[0membed_options\u001b[0m\u001b[1;33m[\u001b[0m\u001b[1;34m'height'\u001b[0m\u001b[1;33m]\u001b[0m \u001b[1;33m=\u001b[0m \u001b[0mstr\u001b[0m\u001b[1;33m(\u001b[0m\u001b[0membed_options\u001b[0m\u001b[1;33m[\u001b[0m\u001b[1;34m'height'\u001b[0m\u001b[1;33m]\u001b[0m\u001b[1;33m)\u001b[0m \u001b[1;33m+\u001b[0m \u001b[1;34m'px'\u001b[0m\u001b[1;33m\u001b[0m\u001b[0m\n\u001b[0;32m    172\u001b[0m \u001b[1;33m\u001b[0m\u001b[0m\n\u001b[1;32m--> 173\u001b[1;33m     \u001b[1;32mreturn\u001b[0m \u001b[0mtools\u001b[0m\u001b[1;33m.\u001b[0m\u001b[0membed\u001b[0m\u001b[1;33m(\u001b[0m\u001b[0murl\u001b[0m\u001b[1;33m,\u001b[0m \u001b[1;33m**\u001b[0m\u001b[0membed_options\u001b[0m\u001b[1;33m)\u001b[0m\u001b[1;33m\u001b[0m\u001b[0m\n\u001b[0m\u001b[0;32m    174\u001b[0m \u001b[1;33m\u001b[0m\u001b[0m\n\u001b[0;32m    175\u001b[0m \u001b[1;33m\u001b[0m\u001b[0m\n",
      "\u001b[1;32mC:\\Programs\\Anaconda\\lib\\site-packages\\plotly\\tools.py\u001b[0m in \u001b[0;36membed\u001b[1;34m(file_owner_or_url, file_id, width, height)\u001b[0m\n\u001b[0;32m    393\u001b[0m         \u001b[1;32melse\u001b[0m\u001b[1;33m:\u001b[0m\u001b[1;33m\u001b[0m\u001b[0m\n\u001b[0;32m    394\u001b[0m             \u001b[0murl\u001b[0m \u001b[1;33m=\u001b[0m \u001b[0mfile_owner_or_url\u001b[0m\u001b[1;33m\u001b[0m\u001b[0m\n\u001b[1;32m--> 395\u001b[1;33m         \u001b[1;32mreturn\u001b[0m \u001b[0mPlotlyDisplay\u001b[0m\u001b[1;33m(\u001b[0m\u001b[0murl\u001b[0m\u001b[1;33m,\u001b[0m \u001b[0mwidth\u001b[0m\u001b[1;33m,\u001b[0m \u001b[0mheight\u001b[0m\u001b[1;33m)\u001b[0m\u001b[1;33m\u001b[0m\u001b[0m\n\u001b[0m\u001b[0;32m    396\u001b[0m     \u001b[1;32melse\u001b[0m\u001b[1;33m:\u001b[0m\u001b[1;33m\u001b[0m\u001b[0m\n\u001b[0;32m    397\u001b[0m         if (get_config_defaults()['plotly_domain']\n",
      "\u001b[1;32mC:\\Programs\\Anaconda\\lib\\site-packages\\plotly\\tools.py\u001b[0m in \u001b[0;36m__init__\u001b[1;34m(self, url, width, height)\u001b[0m\n\u001b[0;32m   1440\u001b[0m         \u001b[1;32mdef\u001b[0m \u001b[0m__init__\u001b[0m\u001b[1;33m(\u001b[0m\u001b[0mself\u001b[0m\u001b[1;33m,\u001b[0m \u001b[0murl\u001b[0m\u001b[1;33m,\u001b[0m \u001b[0mwidth\u001b[0m\u001b[1;33m,\u001b[0m \u001b[0mheight\u001b[0m\u001b[1;33m)\u001b[0m\u001b[1;33m:\u001b[0m\u001b[1;33m\u001b[0m\u001b[0m\n\u001b[0;32m   1441\u001b[0m             \u001b[0mself\u001b[0m\u001b[1;33m.\u001b[0m\u001b[0mresource\u001b[0m \u001b[1;33m=\u001b[0m \u001b[0murl\u001b[0m\u001b[1;33m\u001b[0m\u001b[0m\n\u001b[1;32m-> 1442\u001b[1;33m             \u001b[0mself\u001b[0m\u001b[1;33m.\u001b[0m\u001b[0membed_code\u001b[0m \u001b[1;33m=\u001b[0m \u001b[0mget_embed\u001b[0m\u001b[1;33m(\u001b[0m\u001b[0murl\u001b[0m\u001b[1;33m,\u001b[0m \u001b[0mwidth\u001b[0m\u001b[1;33m=\u001b[0m\u001b[0mwidth\u001b[0m\u001b[1;33m,\u001b[0m \u001b[0mheight\u001b[0m\u001b[1;33m=\u001b[0m\u001b[0mheight\u001b[0m\u001b[1;33m)\u001b[0m\u001b[1;33m\u001b[0m\u001b[0m\n\u001b[0m\u001b[0;32m   1443\u001b[0m             \u001b[0msuper\u001b[0m\u001b[1;33m(\u001b[0m\u001b[0mPlotlyDisplay\u001b[0m\u001b[1;33m,\u001b[0m \u001b[0mself\u001b[0m\u001b[1;33m)\u001b[0m\u001b[1;33m.\u001b[0m\u001b[0m__init__\u001b[0m\u001b[1;33m(\u001b[0m\u001b[0mdata\u001b[0m\u001b[1;33m=\u001b[0m\u001b[0mself\u001b[0m\u001b[1;33m.\u001b[0m\u001b[0membed_code\u001b[0m\u001b[1;33m)\u001b[0m\u001b[1;33m\u001b[0m\u001b[0m\n\u001b[0;32m   1444\u001b[0m \u001b[1;33m\u001b[0m\u001b[0m\n",
      "\u001b[1;32mC:\\Programs\\Anaconda\\lib\\site-packages\\plotly\\tools.py\u001b[0m in \u001b[0;36mget_embed\u001b[1;34m(file_owner_or_url, file_id, width, height)\u001b[0m\n\u001b[0;32m    298\u001b[0m                 \u001b[1;34m\"'{1}'.\"\u001b[0m\u001b[1;33m\u001b[0m\u001b[0m\n\u001b[0;32m    299\u001b[0m                 \u001b[1;34m\"\\nRun help on this function for more information.\"\u001b[0m\u001b[1;33m\u001b[0m\u001b[0m\n\u001b[1;32m--> 300\u001b[1;33m                 \"\".format(url, plotly_rest_url))\n\u001b[0m\u001b[0;32m    301\u001b[0m         \u001b[0murlsplit\u001b[0m \u001b[1;33m=\u001b[0m \u001b[0msix\u001b[0m\u001b[1;33m.\u001b[0m\u001b[0mmoves\u001b[0m\u001b[1;33m.\u001b[0m\u001b[0murllib\u001b[0m\u001b[1;33m.\u001b[0m\u001b[0mparse\u001b[0m\u001b[1;33m.\u001b[0m\u001b[0murlparse\u001b[0m\u001b[1;33m(\u001b[0m\u001b[0murl\u001b[0m\u001b[1;33m)\u001b[0m\u001b[1;33m\u001b[0m\u001b[0m\n\u001b[0;32m    302\u001b[0m         \u001b[0mfile_owner\u001b[0m \u001b[1;33m=\u001b[0m \u001b[0murlsplit\u001b[0m\u001b[1;33m.\u001b[0m\u001b[0mpath\u001b[0m\u001b[1;33m.\u001b[0m\u001b[0msplit\u001b[0m\u001b[1;33m(\u001b[0m\u001b[1;34m'/'\u001b[0m\u001b[1;33m)\u001b[0m\u001b[1;33m[\u001b[0m\u001b[1;36m1\u001b[0m\u001b[1;33m]\u001b[0m\u001b[1;33m.\u001b[0m\u001b[0msplit\u001b[0m\u001b[1;33m(\u001b[0m\u001b[1;34m'~'\u001b[0m\u001b[1;33m)\u001b[0m\u001b[1;33m[\u001b[0m\u001b[1;36m1\u001b[0m\u001b[1;33m]\u001b[0m\u001b[1;33m\u001b[0m\u001b[0m\n",
      "\u001b[1;31mPlotlyError\u001b[0m: Because you didn't supply a 'file_id' in the call, we're assuming you're trying to snag a figure from a url. You supplied the url, '', we expected it to start with 'https://plot.ly'.\nRun help on this function for more information."
     ]
    }
   ],
   "source": [
    "x = regg_n\n",
    "y = accuracy_m\n",
    "z = accuracy_s\n",
    "\n",
    "datap = [\n",
    "  go.Histogram(\n",
    "    histfunc = \"avg\",\n",
    "    y = y,\n",
    "    x = x,\n",
    "    name = \"mean\")\n",
    "]\n",
    "\n",
    "py.iplot(datap, filename='binning function')"
   ]
  },
  {
   "cell_type": "markdown",
   "metadata": {},
   "source": [
    "### XGBoost lib"
   ]
  },
  {
   "cell_type": "code",
   "execution_count": 61,
   "metadata": {},
   "outputs": [
    {
     "name": "stdout",
     "output_type": "stream",
     "text": [
      "0.854148605497026\n",
      "{'subsample': 0.15000000000000002, 'reg_lambda': 0.4, 'reg_alpha': 0.5, 'n_estimators': 80, 'min_child_weight': 8, 'max_depth': 9, 'learning_rate': 0.084, 'colsample_bytree': 0.30000000000000004}\n"
     ]
    }
   ],
   "source": [
    "data_dmatrix = xgb.DMatrix(X_train,y_train)\n",
    "XGBRegressor = xgb.XGBRegressor(random_state=1, objective = 'reg:linear')\n",
    "# CV_SSS = ShuffleSplit(n_splits=5, test_size=0.2, random_state=2)\n",
    "\n",
    "xgb_param_grid = {\n",
    "                  'max_depth': [x for x in range(2,10)],\n",
    "                  'learning_rate': [x*0.001 for x in range(0,100)],\n",
    "                  'n_estimators': [x*10 for x in range(5,15)],\n",
    "                  'reg_alpha': [x*0.05 for x in range(3,15)],\n",
    "                  'reg_lambda': [x*0.05 for x in range(3,14)],\n",
    "                  'min_child_weight':[x for x in range(0,10)],\n",
    "                  'subsample':[x*0.05 for x in range(2,10)],\n",
    "                  'colsample_bytree':[x*0.05 for x in range(6,10)]\n",
    "                 }\n",
    "\n",
    "random_grid_XGB_CV = RandomizedSearchCV(XGBRegressor,\n",
    "                                        xgb_param_grid,\n",
    "                                        scoring = ndcg_scorer,\n",
    "                                        cv = KFold(n_splits=5, shuffle=True, random_state=2),\n",
    "                                        n_iter = 400\n",
    "                                        )\n",
    "random_grid_XGB_CV.fit(X_train, y_train)\n",
    "print(random_grid_XGB_CV.best_score_)\n",
    "print(random_grid_XGB_CV.best_params_)"
   ]
  },
  {
   "cell_type": "code",
   "execution_count": 98,
   "metadata": {
    "scrolled": true
   },
   "outputs": [
    {
     "name": "stdout",
     "output_type": "stream",
     "text": [
      "XGBoost score without norming 0.8537239761746639 0.08412018081169485\n",
      "Score without norming 0.5601706572025296 0.1773676379706743\n",
      "Score without norming 0.8249987110657402 0.06366590877512945\n",
      "Score without norming 0.831875908804635 0.06292461289422473\n",
      "Score without norming 0.8323568277136488 0.06481057315424389\n",
      "Score without norming 0.8422784182082801 0.044113714227302404\n"
     ]
    }
   ],
   "source": [
    "XGB_Regressor = random_grid_XGB_CV.best_estimator_\n",
    "\n",
    "scores = cross_val_score(XGB_Regressor, X_train, y_train, scoring=ndcg_scorer, cv=KFold(n_splits=5, shuffle=True, random_state=2))\n",
    "print('XGBoost score without norming', scores.mean(), scores.std())\n",
    "XGB_Regressor.fit(X_train, y_train)\n",
    "regg_n = ['XGBoost','SGDRegressor', 'DecisionTreeRegressor', 'ElasticNet', 'Lasso', 'Ridge']\n",
    "features_importamce = [XGB_Regressor.feature_importances_]\n",
    "mean_ndcg = [scores.mean()]\n",
    "std_ndcg = [scores.std()]\n",
    "\n",
    "\n",
    "for reggg , name in zip(regressors,regg_n[1:]):\n",
    "    rig = reggg\n",
    "    scores = cross_val_score(rig, X_train, y_train, scoring=ndcg_scorer, cv=KFold(n_splits=5, shuffle=True, random_state=2))\n",
    "    print('Score without norming', scores.mean(), scores.std())\n",
    "    rig.fit(X_train, y_train)\n",
    "    if name!='DecisionTreeRegressor':\n",
    "        features_importamce.append(rig.coef_)\n",
    "    else:\n",
    "        features_importamce.append(rig.feature_importances_)\n",
    "    std_ndcg.append(scores.std())\n",
    "    mean_ndcg.append(scores.mean())"
   ]
  },
  {
   "cell_type": "code",
   "execution_count": 99,
   "metadata": {
    "scrolled": false
   },
   "outputs": [],
   "source": [
    "\n",
    "N = 7\n",
    "x = ['density','neighbors_entropy','competitiveness','area_popularity','transition_density','incoming_flow','transition quality']\n",
    "\n",
    "# Create traces\n",
    "trace1 = go.Scatter(\n",
    "    x = x,\n",
    "    y = features_importamce[0],\n",
    "    mode = 'lines+markers',\n",
    "    name = 'XGBoost Regressor'\n",
    ")\n",
    "trace2 = go.Scatter(\n",
    "    x = x,\n",
    "    y = features_importamce[1],\n",
    "    mode = 'lines+markers',\n",
    "    name = 'SGDRegressor'\n",
    ")\n",
    "trace3 = go.Scatter(\n",
    "    x = x,\n",
    "    y = features_importamce[2],\n",
    "    mode = 'lines+markers',\n",
    "    name = 'DecisionTreeRegressor'\n",
    ")\n",
    "trace4 = go.Scatter(\n",
    "    x = x,\n",
    "    y = features_importamce[3],\n",
    "    mode = 'lines+markers',\n",
    "    name = 'ElasticNet'\n",
    ")\n",
    "trace5 = go.Scatter(\n",
    "    x = x,\n",
    "    y = features_importamce[4],\n",
    "    mode = 'lines+markers',\n",
    "    name = 'Lasso'\n",
    ")\n",
    "trace6 = go.Scatter(\n",
    "    x = x,\n",
    "    y = features_importamce[5],\n",
    "    mode = 'lines+markers',\n",
    "    name = 'Ridge'\n",
    ")\n",
    "dataq = [trace1, trace3, trace5, trace6]\n",
    "\n",
    "# # Edit the layout\n",
    "# layout = dict(title = 'Features importance for regressors',\n",
    "#               xaxis = dict(title = 'features'),\n",
    "#               yaxis = dict(title = 'coefs'),\n",
    "#               )\n",
    "# fig = dict(data=dataq, layout=layout)\n",
    "# py.iplot(fig, filename='line-mode')"
   ]
  },
  {
   "cell_type": "code",
   "execution_count": 197,
   "metadata": {},
   "outputs": [
    {
     "name": "stdout",
     "output_type": "stream",
     "text": [
      "This is the format of your plot grid:\n",
      "[ (1,1) x1,y1 ]  [ (1,2) x2,y2 ]  [ (1,3) x3,y3 ]\n",
      "[ (2,1) x4,y4 ]  [ (2,2) x5,y5 ]  [ (2,3) x6,y6 ]\n",
      "\n"
     ]
    },
    {
     "ename": "TypeError",
     "evalue": "Index must be int, not <class 'str'>",
     "output_type": "error",
     "traceback": [
      "\u001b[0;31m---------------------------------------------------------------------------\u001b[0m",
      "\u001b[0;31mTypeError\u001b[0m                                 Traceback (most recent call last)",
      "\u001b[0;32m<ipython-input-197-7c93e5abd721>\u001b[0m in \u001b[0;36m<module>\u001b[0;34m()\u001b[0m\n\u001b[1;32m     17\u001b[0m \u001b[0mfig\u001b[0m\u001b[0;34m.\u001b[0m\u001b[0mappend_trace\u001b[0m\u001b[0;34m(\u001b[0m\u001b[0mtrace6\u001b[0m\u001b[0;34m,\u001b[0m \u001b[0;36m2\u001b[0m\u001b[0;34m,\u001b[0m \u001b[0;36m3\u001b[0m\u001b[0;34m)\u001b[0m\u001b[0;34m\u001b[0m\u001b[0m\n\u001b[1;32m     18\u001b[0m \u001b[0;34m\u001b[0m\u001b[0m\n\u001b[0;32m---> 19\u001b[0;31m \u001b[0mfig\u001b[0m\u001b[0;34m[\u001b[0m\u001b[0;34m'layout'\u001b[0m\u001b[0;34m]\u001b[0m\u001b[0;34m[\u001b[0m\u001b[0;34m'shapes'\u001b[0m\u001b[0;34m]\u001b[0m\u001b[0;34m[\u001b[0m\u001b[0;34m'fillcolor'\u001b[0m\u001b[0;34m]\u001b[0m \u001b[0;34m=\u001b[0m \u001b[0;34m'#d3d3d3'\u001b[0m\u001b[0;34m\u001b[0m\u001b[0m\n\u001b[0m\u001b[1;32m     20\u001b[0m \u001b[0mfig\u001b[0m\u001b[0;34m[\u001b[0m\u001b[0;34m'layout'\u001b[0m\u001b[0;34m]\u001b[0m\u001b[0;34m.\u001b[0m\u001b[0mupdate\u001b[0m\u001b[0;34m(\u001b[0m\u001b[0mheight\u001b[0m\u001b[0;34m=\u001b[0m\u001b[0;36m600\u001b[0m\u001b[0;34m,\u001b[0m \u001b[0mwidth\u001b[0m\u001b[0;34m=\u001b[0m\u001b[0;36m1100\u001b[0m\u001b[0;34m,\u001b[0m \u001b[0mtitle\u001b[0m\u001b[0;34m=\u001b[0m\u001b[0;34m'Feature importance for each model'\u001b[0m\u001b[0;34m)\u001b[0m\u001b[0;34m\u001b[0m\u001b[0m\n\u001b[1;32m     21\u001b[0m \u001b[0;34m\u001b[0m\u001b[0m\n",
      "\u001b[0;32m~/anaconda3/lib/python3.6/site-packages/plotly/graph_objs/graph_objs.py\u001b[0m in \u001b[0;36m__setitem__\u001b[0;34m(self, index, value, _raise)\u001b[0m\n\u001b[1;32m    166\u001b[0m             \u001b[0;32mif\u001b[0m \u001b[0m_raise\u001b[0m\u001b[0;34m:\u001b[0m\u001b[0;34m\u001b[0m\u001b[0m\n\u001b[1;32m    167\u001b[0m                 \u001b[0mindex_type\u001b[0m \u001b[0;34m=\u001b[0m \u001b[0mtype\u001b[0m\u001b[0;34m(\u001b[0m\u001b[0mindex\u001b[0m\u001b[0;34m)\u001b[0m\u001b[0;34m\u001b[0m\u001b[0m\n\u001b[0;32m--> 168\u001b[0;31m                 \u001b[0;32mraise\u001b[0m \u001b[0mTypeError\u001b[0m\u001b[0;34m(\u001b[0m\u001b[0;34m'Index must be int, not {}'\u001b[0m\u001b[0;34m.\u001b[0m\u001b[0mformat\u001b[0m\u001b[0;34m(\u001b[0m\u001b[0mindex_type\u001b[0m\u001b[0;34m)\u001b[0m\u001b[0;34m)\u001b[0m\u001b[0;34m\u001b[0m\u001b[0m\n\u001b[0m\u001b[1;32m    169\u001b[0m             \u001b[0;32mreturn\u001b[0m\u001b[0;34m\u001b[0m\u001b[0m\n\u001b[1;32m    170\u001b[0m \u001b[0;34m\u001b[0m\u001b[0m\n",
      "\u001b[0;31mTypeError\u001b[0m: Index must be int, not <class 'str'>"
     ]
    }
   ],
   "source": [
    "\n",
    "layout = dict(title = 'Features importance for regressors',\n",
    "              xaxis = dict(title = 'features'),\n",
    "              yaxis = dict(title = 'coefs'),\n",
    "              )\n",
    "\n",
    "\n",
    "\n",
    "fig = tools.make_subplots(rows=2, cols=3, subplot_titles=('XGBoost Regressor', 'SGDRegressor',\n",
    "                                                          'DecisionTreeRegressor', 'ElasticNet','Lasso','Ridge'))\n",
    "\n",
    "fig.append_trace(trace1, 1, 1)\n",
    "fig.append_trace(trace2, 1, 2)\n",
    "fig.append_trace(trace3, 1, 3)\n",
    "fig.append_trace(trace4, 2, 1)\n",
    "fig.append_trace(trace5, 2, 2)\n",
    "fig.append_trace(trace6, 2, 3)\n",
    "\n",
    "fig['layout'].update(height=600, width=1100, title='Feature importance for each model')\n",
    "\n",
    "py.iplot(fig, filename='make-subplots-multiple-with-titles')"
   ]
  },
  {
   "cell_type": "code",
   "execution_count": 101,
   "metadata": {},
   "outputs": [],
   "source": [
    "# Adding Baseline random model to compare performance\n",
    "def baseline_model(y_test):\n",
    "    return np.random.choice(len(y_test), len(y_test), replace=False)\n",
    "scores = []\n",
    "for i in range(10):\n",
    "    preds = baseline_model(X_test)\n",
    "    scores.append(ndcg(y_real=y_test,y_pred=preds))\n",
    "    \n",
    "mean_ndcg.append(np.array(scores).mean())\n",
    "std_ndcg.append(np.array(scores).std())\n",
    "regg_n.append('Baseline')"
   ]
  },
  {
   "cell_type": "code",
   "execution_count": 103,
   "metadata": {
    "scrolled": false
   },
   "outputs": [
    {
     "data": {
      "text/html": [
       "<iframe id=\"igraph\" scrolling=\"no\" style=\"border:none;\" seamless=\"seamless\" src=\"https://plot.ly/~MykolaTrokhymovych/10.embed\" height=\"525px\" width=\"100%\"></iframe>"
      ],
      "text/plain": [
       "<plotly.tools.PlotlyDisplay object>"
      ]
     },
     "execution_count": 103,
     "metadata": {},
     "output_type": "execute_result"
    }
   ],
   "source": [
    "x = regg_n\n",
    "y = mean_ndcg\n",
    "z = std_ndcg\n",
    "\n",
    "datap = [\n",
    "  go.Histogram(\n",
    "    histfunc = \"avg\",\n",
    "    y = y,\n",
    "    x = x)\n",
    "]\n",
    "\n",
    "layout = dict(title = 'Comparing performance of regression models',\n",
    "              xaxis = dict(title = 'Alghorithms'),\n",
    "              yaxis = dict(title = 'NDCG'),\n",
    "              )\n",
    "fig = dict(data=datap, layout=layout)\n",
    "\n",
    "py.iplot(fig, filename='histogram')"
   ]
  },
  {
   "cell_type": "code",
   "execution_count": 191,
   "metadata": {},
   "outputs": [
    {
     "name": "stdout",
     "output_type": "stream",
     "text": [
      "\n"
     ]
    },
    {
     "data": {
      "text/html": [
       "<p style='font-weight: bold; color:black; font-size:200%; font-family:verdana;text-align:center;'> Ranking metrics NDCG@10 without Normalization</p>"
      ],
      "text/plain": [
       "<IPython.core.display.HTML object>"
      ]
     },
     "metadata": {},
     "output_type": "display_data"
    },
    {
     "name": "stdout",
     "output_type": "stream",
     "text": [
      "\n"
     ]
    },
    {
     "data": {
      "text/html": [
       "<style  type=\"text/css\" >\n",
       "    #T_92cb2e06_9584_11e8_b1c7_8c859088e609row0_col0 {\n",
       "            background-color:  orange;\n",
       "        }    #T_92cb2e06_9584_11e8_b1c7_8c859088e609row6_col1 {\n",
       "            background-color:  orange;\n",
       "        }</style>  \n",
       "<table id=\"T_92cb2e06_9584_11e8_b1c7_8c859088e609\" > \n",
       "<thead>    <tr> \n",
       "        <th class=\"blank level0\" ></th> \n",
       "        <th class=\"col_heading level0 col0\" >cross_val_ndcg_mean</th> \n",
       "        <th class=\"col_heading level0 col1\" >cross_val_ndcg_std</th> \n",
       "    </tr></thead> \n",
       "<tbody>    <tr> \n",
       "        <th id=\"T_92cb2e06_9584_11e8_b1c7_8c859088e609level0_row0\" class=\"row_heading level0 row0\" >XGBoost</th> \n",
       "        <td id=\"T_92cb2e06_9584_11e8_b1c7_8c859088e609row0_col0\" class=\"data row0 col0\" >0.853724</td> \n",
       "        <td id=\"T_92cb2e06_9584_11e8_b1c7_8c859088e609row0_col1\" class=\"data row0 col1\" >0.0841202</td> \n",
       "    </tr>    <tr> \n",
       "        <th id=\"T_92cb2e06_9584_11e8_b1c7_8c859088e609level0_row1\" class=\"row_heading level0 row1\" >Ridge</th> \n",
       "        <td id=\"T_92cb2e06_9584_11e8_b1c7_8c859088e609row1_col0\" class=\"data row1 col0\" >0.842278</td> \n",
       "        <td id=\"T_92cb2e06_9584_11e8_b1c7_8c859088e609row1_col1\" class=\"data row1 col1\" >0.0441137</td> \n",
       "    </tr>    <tr> \n",
       "        <th id=\"T_92cb2e06_9584_11e8_b1c7_8c859088e609level0_row2\" class=\"row_heading level0 row2\" >Lasso</th> \n",
       "        <td id=\"T_92cb2e06_9584_11e8_b1c7_8c859088e609row2_col0\" class=\"data row2 col0\" >0.832357</td> \n",
       "        <td id=\"T_92cb2e06_9584_11e8_b1c7_8c859088e609row2_col1\" class=\"data row2 col1\" >0.0648106</td> \n",
       "    </tr>    <tr> \n",
       "        <th id=\"T_92cb2e06_9584_11e8_b1c7_8c859088e609level0_row3\" class=\"row_heading level0 row3\" >ElasticNet</th> \n",
       "        <td id=\"T_92cb2e06_9584_11e8_b1c7_8c859088e609row3_col0\" class=\"data row3 col0\" >0.831876</td> \n",
       "        <td id=\"T_92cb2e06_9584_11e8_b1c7_8c859088e609row3_col1\" class=\"data row3 col1\" >0.0629246</td> \n",
       "    </tr>    <tr> \n",
       "        <th id=\"T_92cb2e06_9584_11e8_b1c7_8c859088e609level0_row4\" class=\"row_heading level0 row4\" >DecisionTreeRegressor</th> \n",
       "        <td id=\"T_92cb2e06_9584_11e8_b1c7_8c859088e609row4_col0\" class=\"data row4 col0\" >0.824999</td> \n",
       "        <td id=\"T_92cb2e06_9584_11e8_b1c7_8c859088e609row4_col1\" class=\"data row4 col1\" >0.0636659</td> \n",
       "    </tr>    <tr> \n",
       "        <th id=\"T_92cb2e06_9584_11e8_b1c7_8c859088e609level0_row5\" class=\"row_heading level0 row5\" >Baseline</th> \n",
       "        <td id=\"T_92cb2e06_9584_11e8_b1c7_8c859088e609row5_col0\" class=\"data row5 col0\" >0.602466</td> \n",
       "        <td id=\"T_92cb2e06_9584_11e8_b1c7_8c859088e609row5_col1\" class=\"data row5 col1\" >0.116668</td> \n",
       "    </tr>    <tr> \n",
       "        <th id=\"T_92cb2e06_9584_11e8_b1c7_8c859088e609level0_row6\" class=\"row_heading level0 row6\" >SGDRegressor</th> \n",
       "        <td id=\"T_92cb2e06_9584_11e8_b1c7_8c859088e609row6_col0\" class=\"data row6 col0\" >0.560171</td> \n",
       "        <td id=\"T_92cb2e06_9584_11e8_b1c7_8c859088e609row6_col1\" class=\"data row6 col1\" >0.177368</td> \n",
       "    </tr></tbody> \n",
       "</table> "
      ],
      "text/plain": [
       "<pandas.io.formats.style.Styler at 0x11defc4a8>"
      ]
     },
     "execution_count": 191,
     "metadata": {},
     "output_type": "execute_result"
    }
   ],
   "source": [
    "print(  )\n",
    "display(html_print(\"<p style='font-weight: bold; color:black; font-size:200%; font-family:verdana;text-align:center;'> Ranking metrics NDCG@10 without Normalization</p>\"))\n",
    "print() \n",
    "    \n",
    "res = pd.DataFrame({'cross_val_ndcg_mean':mean_ndcg, 'cross_val_ndcg_std':std_ndcg}, index = regg_n)\n",
    "res = res.sort_values('cross_val_ndcg_mean', ascending = False).style.apply(lambda x: highlight_max(x, col=\"orange\"), axis=0)\n",
    "\n",
    "res"
   ]
  },
  {
   "cell_type": "markdown",
   "metadata": {},
   "source": [
    "### Try to build model based only on geographic features"
   ]
  },
  {
   "cell_type": "code",
   "execution_count": null,
   "metadata": {},
   "outputs": [],
   "source": []
  },
  {
   "cell_type": "code",
   "execution_count": null,
   "metadata": {},
   "outputs": [],
   "source": []
  },
  {
   "cell_type": "code",
   "execution_count": null,
   "metadata": {},
   "outputs": [],
   "source": []
  },
  {
   "cell_type": "code",
   "execution_count": null,
   "metadata": {},
   "outputs": [],
   "source": []
  },
  {
   "cell_type": "code",
   "execution_count": null,
   "metadata": {},
   "outputs": [],
   "source": []
  },
  {
   "cell_type": "code",
   "execution_count": null,
   "metadata": {},
   "outputs": [],
   "source": []
  },
  {
   "cell_type": "code",
   "execution_count": null,
   "metadata": {},
   "outputs": [],
   "source": []
  },
  {
   "cell_type": "code",
   "execution_count": 127,
   "metadata": {},
   "outputs": [
    {
     "data": {
      "image/png": "[encoded data removed]",
      "text/plain": [
       "<matplotlib.figure.Figure at 0x11e70ccc0>"
      ]
     },
     "metadata": {},
     "output_type": "display_data"
    }
   ],
   "source": [
    "import numpy as np\n",
    "np.random.seed(0)\n",
    "import seaborn as sns\n",
    "import matplotlib.pyplot as plt\n",
    "plt.rcParams['figure.figsize'] = [13,14]\n",
    "corr = X_all.corr()\n",
    "sns.heatmap(corr, annot=True, linewidths=1, cbar_kws={\"orientation\": \"horizontal\"}, cmap=\"Blues\")\n",
    "plt.title('Correlations between features and target')\n",
    "plt.show()"
   ]
  },
  {
   "cell_type": "code",
   "execution_count": 198,
   "metadata": {},
   "outputs": [],
   "source": [
    "import plotly.plotly as py\n",
    "from plotly.graph_objs import *\n",
    "py.sign_in('', '')\n",
    "data = Data([\n",
    "    Bar(\n",
    "        x=['Sivaranjani S', 'Vijayalakshmi C', 'Rajeshwari S', 'Shanthi Priscilla', 'Pandiyaraj G', 'Kamatchi S', 'MohanaPriya', 'Madhumitha G', 'Franklin Alphones Raj J', 'Akfaris Almaas', 'Biswajit Champati', 'Priya R', 'Rekha Rajasekaran', 'Sarath Kumar B', 'Jegan L', 'Karthick A', 'Mahalakshmi S', 'Ragunathan V', 'Anu S', 'Ramkumar KS', 'Uthra R'],\n",
    "        y=[1640, 1394, 1390, 1313, 2166, 1521, 1078, 1543, 780, 1202, 1505, 2028, 2032, 1769, 1238, 1491, 1477, 1329, 2038, 1339, 1458],\n",
    "        text=['Scuti', 'Scuti', 'Cygni', 'Scorpii', 'Scuti', 'Pollux', 'Scorpii', 'Pollux', 'Scuti', 'Pollux', 'Scorpii', 'Scorpii', 'Scuti', 'Cygni', 'Scorpii', 'Scuti', 'Scuti', 'Pollux', 'Scuti', 'Pollux', 'Pollux']\n",
    "    )\n",
    "])\n",
    "\n",
    "layout = Layout(\n",
    "    paper_bgcolor='rgba(0,0,0,0)',\n",
    "    plot_bgcolor='rgba(0,0,0,0)'\n",
    ")\n",
    "\n",
    "fig = Figure(data=data, layout=layout)\n",
    "\n",
    "plot_url = py.plot(fig, filename='transparent-background')"
   ]
  },
  {
   "cell_type": "code",
   "execution_count": null,
   "metadata": {},
   "outputs": [],
   "source": []
  },
  {
   "cell_type": "code",
   "execution_count": null,
   "metadata": {},
   "outputs": [],
   "source": []
  },
  {
   "cell_type": "code",
   "execution_count": null,
   "metadata": {},
   "outputs": [],
   "source": []
  },
  {
   "cell_type": "code",
   "execution_count": null,
   "metadata": {},
   "outputs": [],
   "source": []
  },
  {
   "cell_type": "code",
   "execution_count": null,
   "metadata": {},
   "outputs": [],
   "source": []
  },
  {
   "cell_type": "code",
   "execution_count": null,
   "metadata": {},
   "outputs": [],
   "source": []
  },
  {
   "cell_type": "code",
   "execution_count": null,
   "metadata": {},
   "outputs": [],
   "source": []
  },
  {
   "cell_type": "code",
   "execution_count": null,
   "metadata": {},
   "outputs": [],
   "source": []
  },
  {
   "cell_type": "code",
   "execution_count": null,
   "metadata": {},
   "outputs": [],
   "source": []
  },
  {
   "cell_type": "code",
   "execution_count": null,
   "metadata": {},
   "outputs": [],
   "source": []
  },
  {
   "cell_type": "code",
   "execution_count": null,
   "metadata": {},
   "outputs": [],
   "source": []
  },
  {
   "cell_type": "code",
   "execution_count": null,
   "metadata": {},
   "outputs": [],
   "source": []
  },
  {
   "cell_type": "code",
   "execution_count": null,
   "metadata": {},
   "outputs": [],
   "source": []
  },
  {
   "cell_type": "code",
   "execution_count": null,
   "metadata": {},
   "outputs": [],
   "source": []
  },
  {
   "cell_type": "markdown",
   "metadata": {},
   "source": [
    "# Making files for plotting in kepler"
   ]
  },
  {
   "cell_type": "code",
   "execution_count": 140,
   "metadata": {},
   "outputs": [],
   "source": [
    "X = data[['venue_id', 'latitude', 'longitude', 'density',\n",
    "       'neighbors_entropy', 'competitiveness', 'area_popularity',\n",
    "       'transition_density', 'incoming_flow', 'transition quality',\n",
    "       'n_same_business_in_area']]"
   ]
  },
  {
   "cell_type": "code",
   "execution_count": 146,
   "metadata": {},
   "outputs": [],
   "source": [
    "y = data['target_check_ins']"
   ]
  },
  {
   "cell_type": "code",
   "execution_count": 184,
   "metadata": {},
   "outputs": [],
   "source": [
    "X_train, X_test, y_train, y_test = train_test_split(X, y, test_size=0.2, random_state=2018)"
   ]
  },
  {
   "cell_type": "code",
   "execution_count": 185,
   "metadata": {},
   "outputs": [],
   "source": [
    "train = pd.concat([X_train, y_train], axis=1)\n",
    "train.to_csv('data/train_to_plot.csv', index = None)"
   ]
  },
  {
   "cell_type": "code",
   "execution_count": 186,
   "metadata": {},
   "outputs": [],
   "source": [
    "test = pd.concat([X_test, y_test], axis=1)\n",
    "test.to_csv('data/test_to_plot.csv', index = None)"
   ]
  },
  {
   "cell_type": "code",
   "execution_count": 162,
   "metadata": {},
   "outputs": [],
   "source": [
    "test = test[['density','neighbors_entropy','competitiveness','area_popularity','transition_density','incoming_flow','transition quality']]\n",
    "train = train[['density','neighbors_entropy','competitiveness','area_popularity','transition_density','incoming_flow','transition quality']]\n"
   ]
  },
  {
   "cell_type": "code",
   "execution_count": null,
   "metadata": {},
   "outputs": [],
   "source": [
    "#defining metric ndcg\n",
    "def ndcg(y_real, y_pred, p=10):\n",
    "    to_test = pd.DataFrame({'real':y_real, 'predicted':y_pred})\n",
    "    to_test = to_test.sort_values(by = 'real', ascending=False)\n",
    "    to_test['real_ratings'] = [abs(x) for x in range(-len(to_test),0)]\n",
    "    to_test = to_test.sort_values(by = 'predicted', ascending=False)\n",
    "    rr = list(to_test.head(p).real_ratings)\n",
    "    dcg = 0\n",
    "    idcg = 0\n",
    "    for i in range(len(rr)):\n",
    "        dcg+=rr[i]/np.log2(i+2)\n",
    "        idcg+=(len(to_test)-i)/np.log2(i+2)\n",
    "    return dcg/idcg\n",
    "\n",
    "# making custom scorer out of ndcg for cv\n",
    "ndcg_scorer = make_scorer(ndcg)"
   ]
  },
  {
   "cell_type": "code",
   "execution_count": 161,
   "metadata": {},
   "outputs": [],
   "source": [
    "best_test = test.sort_values(by = 'target_check_ins', ascending=False)\n",
    "best_test = best_test.head(10)\n",
    "best_test.to_csv('data/top10_test_plot.csv', index = None)"
   ]
  },
  {
   "cell_type": "code",
   "execution_count": 174,
   "metadata": {},
   "outputs": [],
   "source": [
    "res = regressors[4].predict(test)"
   ]
  },
  {
   "cell_type": "code",
   "execution_count": 187,
   "metadata": {},
   "outputs": [],
   "source": [
    "predict = pd.DataFrame({'real_ratings':y_test, 'predicted':res, 'venue_id':test['venue_id'], 'latitude':test['latitude'], 'longitude':test['longitude']}, index=y_test.index)"
   ]
  },
  {
   "cell_type": "code",
   "execution_count": 188,
   "metadata": {},
   "outputs": [],
   "source": [
    "predicted_top_10 = predict.sort_values('predicted', ascending=False).head(10)"
   ]
  },
  {
   "cell_type": "code",
   "execution_count": 189,
   "metadata": {},
   "outputs": [],
   "source": [
    "predicted_top_10.to_csv('data/predicted_top_10_plot.csv', index = None)"
   ]
  },
  {
   "cell_type": "code",
   "execution_count": 190,
   "metadata": {},
   "outputs": [
    {
     "data": {
      "text/html": [
       "<div>\n",
       "<style>\n",
       "    .dataframe thead tr:only-child th {\n",
       "        text-align: right;\n",
       "    }\n",
       "\n",
       "    .dataframe thead th {\n",
       "        text-align: left;\n",
       "    }\n",
       "\n",
       "    .dataframe tbody tr th {\n",
       "        vertical-align: top;\n",
       "    }\n",
       "</style>\n",
       "<table border=\"1\" class=\"dataframe\">\n",
       "  <thead>\n",
       "    <tr style=\"text-align: right;\">\n",
       "      <th></th>\n",
       "      <th>latitude</th>\n",
       "      <th>longitude</th>\n",
       "      <th>predicted</th>\n",
       "      <th>real_ratings</th>\n",
       "      <th>venue_id</th>\n",
       "    </tr>\n",
       "  </thead>\n",
       "  <tbody>\n",
       "    <tr>\n",
       "      <th>28</th>\n",
       "      <td>40.754240</td>\n",
       "      <td>-73.975870</td>\n",
       "      <td>781.694767</td>\n",
       "      <td>676.0</td>\n",
       "      <td>29262.0</td>\n",
       "    </tr>\n",
       "    <tr>\n",
       "      <th>140</th>\n",
       "      <td>40.740665</td>\n",
       "      <td>-73.987236</td>\n",
       "      <td>718.415601</td>\n",
       "      <td>1452.0</td>\n",
       "      <td>65714.0</td>\n",
       "    </tr>\n",
       "    <tr>\n",
       "      <th>252</th>\n",
       "      <td>40.755974</td>\n",
       "      <td>-73.991760</td>\n",
       "      <td>708.275208</td>\n",
       "      <td>142.0</td>\n",
       "      <td>82679.0</td>\n",
       "    </tr>\n",
       "    <tr>\n",
       "      <th>131</th>\n",
       "      <td>40.754980</td>\n",
       "      <td>-73.985790</td>\n",
       "      <td>681.342107</td>\n",
       "      <td>1389.0</td>\n",
       "      <td>62165.0</td>\n",
       "    </tr>\n",
       "    <tr>\n",
       "      <th>191</th>\n",
       "      <td>40.706917</td>\n",
       "      <td>-74.007256</td>\n",
       "      <td>579.300174</td>\n",
       "      <td>556.0</td>\n",
       "      <td>29989.0</td>\n",
       "    </tr>\n",
       "    <tr>\n",
       "      <th>157</th>\n",
       "      <td>40.760715</td>\n",
       "      <td>-73.976180</td>\n",
       "      <td>490.430582</td>\n",
       "      <td>292.0</td>\n",
       "      <td>68560.0</td>\n",
       "    </tr>\n",
       "    <tr>\n",
       "      <th>84</th>\n",
       "      <td>40.733063</td>\n",
       "      <td>-73.989975</td>\n",
       "      <td>489.644878</td>\n",
       "      <td>1252.0</td>\n",
       "      <td>47416.0</td>\n",
       "    </tr>\n",
       "    <tr>\n",
       "      <th>33</th>\n",
       "      <td>40.737335</td>\n",
       "      <td>-74.028730</td>\n",
       "      <td>473.688753</td>\n",
       "      <td>519.0</td>\n",
       "      <td>5046.0</td>\n",
       "    </tr>\n",
       "    <tr>\n",
       "      <th>160</th>\n",
       "      <td>40.749950</td>\n",
       "      <td>-73.982190</td>\n",
       "      <td>452.908717</td>\n",
       "      <td>420.0</td>\n",
       "      <td>24937.0</td>\n",
       "    </tr>\n",
       "    <tr>\n",
       "      <th>10</th>\n",
       "      <td>40.736797</td>\n",
       "      <td>-73.995940</td>\n",
       "      <td>441.147185</td>\n",
       "      <td>722.0</td>\n",
       "      <td>83878.0</td>\n",
       "    </tr>\n",
       "  </tbody>\n",
       "</table>\n",
       "</div>"
      ],
      "text/plain": [
       "      latitude  longitude   predicted  real_ratings  venue_id\n",
       "28   40.754240 -73.975870  781.694767         676.0   29262.0\n",
       "140  40.740665 -73.987236  718.415601        1452.0   65714.0\n",
       "252  40.755974 -73.991760  708.275208         142.0   82679.0\n",
       "131  40.754980 -73.985790  681.342107        1389.0   62165.0\n",
       "191  40.706917 -74.007256  579.300174         556.0   29989.0\n",
       "157  40.760715 -73.976180  490.430582         292.0   68560.0\n",
       "84   40.733063 -73.989975  489.644878        1252.0   47416.0\n",
       "33   40.737335 -74.028730  473.688753         519.0    5046.0\n",
       "160  40.749950 -73.982190  452.908717         420.0   24937.0\n",
       "10   40.736797 -73.995940  441.147185         722.0   83878.0"
      ]
     },
     "execution_count": 190,
     "metadata": {},
     "output_type": "execute_result"
    }
   ],
   "source": [
    "predicted_top_10"
   ]
  },
  {
   "cell_type": "code",
   "execution_count": null,
   "metadata": {},
   "outputs": [],
   "source": []
  },
  {
   "cell_type": "code",
   "execution_count": null,
   "metadata": {},
   "outputs": [],
   "source": []
  },
  {
   "cell_type": "code",
   "execution_count": null,
   "metadata": {},
   "outputs": [],
   "source": []
  },
  {
   "cell_type": "code",
   "execution_count": null,
   "metadata": {},
   "outputs": [],
   "source": []
  },
  {
   "cell_type": "code",
   "execution_count": null,
   "metadata": {},
   "outputs": [],
   "source": []
  },
  {
   "cell_type": "code",
   "execution_count": null,
   "metadata": {},
   "outputs": [],
   "source": []
  },
  {
   "cell_type": "code",
   "execution_count": null,
   "metadata": {},
   "outputs": [],
   "source": []
  },
  {
   "cell_type": "code",
   "execution_count": null,
   "metadata": {},
   "outputs": [],
   "source": []
  },
  {
   "cell_type": "code",
   "execution_count": null,
   "metadata": {},
   "outputs": [],
   "source": []
  },
  {
   "cell_type": "code",
   "execution_count": null,
   "metadata": {},
   "outputs": [],
   "source": []
  },
  {
   "cell_type": "code",
   "execution_count": null,
   "metadata": {},
   "outputs": [],
   "source": []
  },
  {
   "cell_type": "code",
   "execution_count": null,
   "metadata": {},
   "outputs": [],
   "source": []
  }
 ],
 "metadata": {
  "kernelspec": {
   "display_name": "Python 3",
   "language": "python",
   "name": "python3"
  },
  "language_info": {
   "codemirror_mode": {
    "name": "ipython",
    "version": 3
   },
   "file_extension": ".py",
   "mimetype": "text/x-python",
   "name": "python",
   "nbconvert_exporter": "python",
   "pygments_lexer": "ipython3",
   "version": "3.6.2"
  }
 },
 "nbformat": 4,
 "nbformat_minor": 2
}
