{
 "cells": [
  {
   "cell_type": "code",
   "execution_count": 34,
   "metadata": {},
   "outputs": [],
   "source": [
    "f_in = open('shared_data/new york_anon_locationData_newcrawl.txt', 'r')\n",
    "foursquare_venues = {}\n",
    "for line in f_in:\n",
    "\tsplits = line.split('*;*')\n",
    "\tvenueid = splits[0]\n",
    "\tinfo = eval(splits[1])\n",
    "\tfoursquare_venues[venueid] = info"
   ]
  },
  {
   "cell_type": "code",
   "execution_count": 37,
   "metadata": {},
   "outputs": [],
   "source": [
    "# ny_venues = pd.DataFrame.from_dict(foursquare_venues, orient='index', \n",
    "#                        columns=['latitude', 'longitude', 'category', 'unique_users', 'total_check-ins', 'title'])\n",
    "# ny_venues.to_csv('shared_data/ny_venues.csv', \n",
    "#                  columns=['latitude', 'longitude', 'category', 'unique_users', 'total_check-ins', 'title'])"
   ]
  },
  {
   "cell_type": "code",
   "execution_count": 3,
   "metadata": {},
   "outputs": [],
   "source": [
    "import pandas as pd\n",
    "transitions = pd.read_csv('shared_data/new york_placenet_transitions.txt', sep=',', names=['A_id', 'B_id','A_datetime', 'B_datetime'])\n",
    "ny_venues = pd.read_csv('shared_data/ny_venues.csv', sep=',')"
   ]
  },
  {
   "cell_type": "code",
   "execution_count": 2,
   "metadata": {},
   "outputs": [
    {
     "data": {
      "text/html": [
       "<div>\n",
       "<style scoped>\n",
       "    .dataframe tbody tr th:only-of-type {\n",
       "        vertical-align: middle;\n",
       "    }\n",
       "\n",
       "    .dataframe tbody tr th {\n",
       "        vertical-align: top;\n",
       "    }\n",
       "\n",
       "    .dataframe thead th {\n",
       "        text-align: right;\n",
       "    }\n",
       "</style>\n",
       "<table border=\"1\" class=\"dataframe\">\n",
       "  <thead>\n",
       "    <tr style=\"text-align: right;\">\n",
       "      <th></th>\n",
       "      <th>A_id</th>\n",
       "      <th>B_id</th>\n",
       "      <th>A_datetime</th>\n",
       "      <th>B_datetime</th>\n",
       "    </tr>\n",
       "  </thead>\n",
       "  <tbody>\n",
       "    <tr>\n",
       "      <th>0</th>\n",
       "      <td>34814</td>\n",
       "      <td>32616</td>\n",
       "      <td>2011-04-01 21:46:59</td>\n",
       "      <td>2011-04-03 23:25:17</td>\n",
       "    </tr>\n",
       "    <tr>\n",
       "      <th>1</th>\n",
       "      <td>6136</td>\n",
       "      <td>41982</td>\n",
       "      <td>2011-04-06 03:03:56</td>\n",
       "      <td>2011-04-06 03:22:48</td>\n",
       "    </tr>\n",
       "    <tr>\n",
       "      <th>2</th>\n",
       "      <td>41982</td>\n",
       "      <td>35981</td>\n",
       "      <td>2011-04-06 03:22:48</td>\n",
       "      <td>2011-04-07 18:00:53</td>\n",
       "    </tr>\n",
       "    <tr>\n",
       "      <th>3</th>\n",
       "      <td>35981</td>\n",
       "      <td>6701</td>\n",
       "      <td>2011-04-07 18:00:53</td>\n",
       "      <td>2011-04-07 18:01:06</td>\n",
       "    </tr>\n",
       "    <tr>\n",
       "      <th>4</th>\n",
       "      <td>6701</td>\n",
       "      <td>57814</td>\n",
       "      <td>2011-04-07 18:01:06</td>\n",
       "      <td>2011-04-08 22:38:26</td>\n",
       "    </tr>\n",
       "  </tbody>\n",
       "</table>\n",
       "</div>"
      ],
      "text/plain": [
       "    A_id   B_id           A_datetime           B_datetime\n",
       "0  34814  32616  2011-04-01 21:46:59  2011-04-03 23:25:17\n",
       "1   6136  41982  2011-04-06 03:03:56  2011-04-06 03:22:48\n",
       "2  41982  35981  2011-04-06 03:22:48  2011-04-07 18:00:53\n",
       "3  35981   6701  2011-04-07 18:00:53  2011-04-07 18:01:06\n",
       "4   6701  57814  2011-04-07 18:01:06  2011-04-08 22:38:26"
      ]
     },
     "execution_count": 2,
     "metadata": {},
     "output_type": "execute_result"
    }
   ],
   "source": [
    "transitions.head()"
   ]
  },
  {
   "cell_type": "code",
   "execution_count": 4,
   "metadata": {
    "collapsed": true
   },
   "outputs": [
    {
     "data": {
      "text/html": [
       "<div>\n",
       "<style scoped>\n",
       "    .dataframe tbody tr th:only-of-type {\n",
       "        vertical-align: middle;\n",
       "    }\n",
       "\n",
       "    .dataframe tbody tr th {\n",
       "        vertical-align: top;\n",
       "    }\n",
       "\n",
       "    .dataframe thead th {\n",
       "        text-align: right;\n",
       "    }\n",
       "</style>\n",
       "<table border=\"1\" class=\"dataframe\">\n",
       "  <thead>\n",
       "    <tr style=\"text-align: right;\">\n",
       "      <th></th>\n",
       "      <th>venue_id</th>\n",
       "      <th>latitude</th>\n",
       "      <th>longitude</th>\n",
       "      <th>category</th>\n",
       "      <th>unique_users</th>\n",
       "      <th>total_check-ins</th>\n",
       "      <th>title</th>\n",
       "    </tr>\n",
       "  </thead>\n",
       "  <tbody>\n",
       "    <tr>\n",
       "      <th>0</th>\n",
       "      <td>42889</td>\n",
       "      <td>40.760265</td>\n",
       "      <td>-73.989105</td>\n",
       "      <td>Italian</td>\n",
       "      <td>217</td>\n",
       "      <td>291</td>\n",
       "      <td>Ristorante Da Rosina</td>\n",
       "    </tr>\n",
       "    <tr>\n",
       "      <th>1</th>\n",
       "      <td>57489</td>\n",
       "      <td>40.780704</td>\n",
       "      <td>-73.954704</td>\n",
       "      <td>Bakery</td>\n",
       "      <td>1291</td>\n",
       "      <td>2231</td>\n",
       "      <td>Le Pain Quotidien</td>\n",
       "    </tr>\n",
       "    <tr>\n",
       "      <th>2</th>\n",
       "      <td>42890</td>\n",
       "      <td>40.663925</td>\n",
       "      <td>-74.118230</td>\n",
       "      <td>Video Store</td>\n",
       "      <td>60</td>\n",
       "      <td>186</td>\n",
       "      <td>Blockbuster</td>\n",
       "    </tr>\n",
       "    <tr>\n",
       "      <th>3</th>\n",
       "      <td>74771</td>\n",
       "      <td>40.739840</td>\n",
       "      <td>-73.991770</td>\n",
       "      <td>Corporate ' Office</td>\n",
       "      <td>6</td>\n",
       "      <td>12</td>\n",
       "      <td>Day &amp; Night Office</td>\n",
       "    </tr>\n",
       "    <tr>\n",
       "      <th>4</th>\n",
       "      <td>42891</td>\n",
       "      <td>40.786987</td>\n",
       "      <td>-73.807530</td>\n",
       "      <td>Other - Food</td>\n",
       "      <td>29</td>\n",
       "      <td>40</td>\n",
       "      <td>Erin's Isle</td>\n",
       "    </tr>\n",
       "  </tbody>\n",
       "</table>\n",
       "</div>"
      ],
      "text/plain": [
       "   venue_id   latitude  longitude            category  unique_users  \\\n",
       "0     42889  40.760265 -73.989105             Italian           217   \n",
       "1     57489  40.780704 -73.954704              Bakery          1291   \n",
       "2     42890  40.663925 -74.118230         Video Store            60   \n",
       "3     74771  40.739840 -73.991770  Corporate ' Office             6   \n",
       "4     42891  40.786987 -73.807530        Other - Food            29   \n",
       "\n",
       "   total_check-ins                 title  \n",
       "0              291  Ristorante Da Rosina  \n",
       "1             2231     Le Pain Quotidien  \n",
       "2              186           Blockbuster  \n",
       "3               12    Day & Night Office  \n",
       "4               40           Erin's Isle  "
      ]
     },
     "execution_count": 4,
     "metadata": {},
     "output_type": "execute_result"
    }
   ],
   "source": [
    "ny_venues.head()"
   ]
  },
  {
   "cell_type": "code",
   "execution_count": 15,
   "metadata": {},
   "outputs": [],
   "source": [
    "venues = {}\n",
    "for index, row in ny_venues.iterrows():\n",
    "    venues[row.venue_id] = row.to_dict()\n",
    "    \n",
    "    \n",
    "    \n",
    "    \n",
    "    \n",
    "    "
   ]
  },
  {
   "cell_type": "code",
   "execution_count": 17,
   "metadata": {},
   "outputs": [
    {
     "data": {
      "text/plain": [
       "40.763992"
      ]
     },
     "execution_count": 17,
     "metadata": {},
     "output_type": "execute_result"
    }
   ],
   "source": [
    "venues[0]['latitude']"
   ]
  },
  {
   "cell_type": "code",
   "execution_count": 4,
   "metadata": {
    "collapsed": false
   },
   "outputs": [
    {
     "name": "stdout",
     "output_type": "stream",
     "text": [
      "40.99928\n",
      "40.415005\n",
      "-73.48129\n",
      "-74.28631\n"
     ]
    }
   ],
   "source": [
    "print(max(ny_venues.latitude))\n",
    "print(min(ny_venues.latitude))\n",
    "print(max(ny_venues.longitude))\n",
    "print(min(ny_venues.longitude))\n",
    "# for index, row in ny_venues.iterrows():\n",
    "#     print(row.latitude"
   ]
  },
  {
   "cell_type": "code",
   "execution_count": 10,
   "metadata": {},
   "outputs": [],
   "source": [
    "from geopy import distance\n",
    "from math import pi, cos\n",
    "\n",
    "\n",
    "class Geometry:\n",
    "    R_EARTH = 6371.0 \n",
    "    \n",
    "    #calculating new latitude in n meters \n",
    "    @staticmethod\n",
    "    def _get_latitude(latitude, n_meters):\n",
    "        if abs(latitude)>90:\n",
    "            return 0\n",
    "        dy = n_meters/1000\n",
    "        return latitude  + (dy / Geometry.R_EARTH) * (180 / pi);\n",
    "    \n",
    "    #calculating new longtitude in n meters \n",
    "    @staticmethod\n",
    "    def _get_longtitude(latitude, longitude, n_meters):\n",
    "#         check real values\n",
    "        if abs(latitude)>90 or abs(longitude)>180:\n",
    "            return 0\n",
    "        dx = n_meters/1000\n",
    "        return longitude + (dx / Geometry.R_EARTH) * (180 / pi) / cos(latitude * pi/180);\n",
    "    \n",
    "    @staticmethod\n",
    "    def get_places_around(center_coordinates, radius, venues):\n",
    "#         circle area\n",
    "        places_ids = []\n",
    "        for index, row in venues.iterrows():\n",
    "            dist = distance.distance(center_coordinates, (row.latitude, row.longitude)).m\n",
    "            if dist<=radius:\n",
    "                places_ids.append(row.venue_id)\n",
    "        return places_ids\n",
    "    \n",
    "    def get_rect_points(center, size):\n",
    "        radius = size/2\n",
    "        \n",
    "        # A-B\n",
    "        # D-C\n",
    "        a_lat = Geometry._get_latitude(center[0], radius)\n",
    "        a_long = Geometry._get_longtitude(center[0], center[1], -radius)\n",
    "        \n",
    "        b_lat = Geometry._get_latitude(center[0], radius)\n",
    "        b_long = Geometry._get_longtitude(center[0], center[1], radius)\n",
    "        \n",
    "        c_lat = Geometry._get_latitude(center[0], -radius)\n",
    "        c_long = Geometry._get_longtitude(center[0], center[1], radius)\n",
    "        \n",
    "        d_lat = Geometry._get_latitude(center[0], -radius)\n",
    "        d_long = Geometry._get_longtitude(center[0], center[1], -radius)\n",
    "        \n",
    "        coordinates = [(a_lat, a_long), (b_lat, b_long), (c_lat, c_long), (d_lat, d_long)]\n",
    "        return coordinates\n",
    "    \n",
    "    def get_cell_centres:\n",
    "        "
   ]
  },
  {
   "cell_type": "code",
   "execution_count": 12,
   "metadata": {},
   "outputs": [
    {
     "data": {
      "text/plain": [
       "[(40.00089932160592, -73.00117398097981),\n",
       " (40.00089932160592, -72.99882601902019),\n",
       " (39.99910067839408, -72.99882601902019),\n",
       " (39.99910067839408, -73.00117398097981)]"
      ]
     },
     "execution_count": 12,
     "metadata": {},
     "output_type": "execute_result"
    }
   ],
   "source": [
    "Geometry.get_rect_points(center=(40, -73), size=200)"
   ]
  },
  {
   "cell_type": "code",
   "execution_count": 23,
   "metadata": {},
   "outputs": [
    {
     "data": {
      "text/plain": [
       "213.48464238941"
      ]
     },
     "execution_count": 23,
     "metadata": {},
     "output_type": "execute_result"
    }
   ],
   "source": [
    "distance.distance((40, 74), (40, 74.0025)).m"
   ]
  },
  {
   "cell_type": "code",
   "execution_count": null,
   "metadata": {},
   "outputs": [],
   "source": [
    "# from geometry import Geometry \n",
    "places = Geometry.get_places_around(center_coordinates=(40.760265,-73.989105), radius=500, venues=ny_venues)\n",
    "print(places)"
   ]
  },
  {
   "cell_type": "code",
   "execution_count": 52,
   "metadata": {},
   "outputs": [],
   "source": [
    "import numpy as np\n",
    "lonMin = -74.1  # minimum longitude\n",
    "lonMax = -73.7\n",
    "lonStep = 0.01 # defines cell size\n",
    " \n",
    "latMin = 40.6  # minimum latitude\n",
    "latMax = 41.0\n",
    "latStep = 0.01  # defines cell size\n",
    " \n",
    "latLen = int((latMax - latMin) / latStep) + 1  # number of cells on the y-axis\n",
    "lonLen = int((lonMax - lonMin) / lonStep) + 1  # number of cells on the x-axis\n",
    "\n",
    "venues_grid=np.zeros((latLen, lonLen), dtype=np.ndarray)\n",
    "\n",
    "for index, row in ny_venues.iterrows():\n",
    "        lat = row.latitude\n",
    "        longit = row.longitude\n",
    "        # if outside the grid then ingore point\n",
    "        if (lat < latMin) or (lat > latMax) or (longit < lonMin) or (longit > lonMax):\n",
    "            continue\n",
    "        cx = int((longit - lonMin) / lonStep)\n",
    "        cy = int((lat - latMin) / latStep)        \n",
    "        venues_grid[cy, cx]=np.append(venues_grid[cy, cx], row.venue_id)\n",
    "            \n",
    "\n"
   ]
  },
  {
   "cell_type": "code",
   "execution_count": 12,
   "metadata": {},
   "outputs": [],
   "source": [
    "import numpy as np\n",
    "a = np.zeros((10, 10))"
   ]
  },
  {
   "cell_type": "code",
   "execution_count": 30,
   "metadata": {},
   "outputs": [],
   "source": [
    "a = np.array([])"
   ]
  },
  {
   "cell_type": "code",
   "execution_count": 1,
   "metadata": {},
   "outputs": [],
   "source": [
    "from feature_extractor import FeatureExtractor\n",
    "import pandas as pd\n",
    "transitions = pd.read_csv('shared_data/new york_placenet_transitions.txt', sep=',', names=['A_id', 'B_id','A_datetime', 'B_datetime'])\n",
    "ny_venues = pd.read_csv('shared_data/ny_venues.csv', sep=',')\n",
    "extractor = FeatureExtractor(ny_venues, transitions)\n",
    "extractor.calculate_squares()"
   ]
  },
  {
   "cell_type": "code",
   "execution_count": 2,
   "metadata": {},
   "outputs": [
    {
     "data": {
      "text/plain": [
       "array([array([], dtype=float64), array([], dtype=float64),\n",
       "       array([], dtype=float64), array([], dtype=float64),\n",
       "       array([], dtype=float64), array([], dtype=float64),\n",
       "       array([], dtype=float64), array([], dtype=float64),\n",
       "       array([], dtype=float64), array([], dtype=float64),\n",
       "       array([], dtype=float64), array([], dtype=float64),\n",
       "       array([], dtype=float64), array([], dtype=float64),\n",
       "       array([], dtype=float64), array([], dtype=float64),\n",
       "       array([], dtype=float64), array([], dtype=float64),\n",
       "       array([], dtype=float64), array([], dtype=float64),\n",
       "       array([], dtype=float64), array([], dtype=float64),\n",
       "       array([51661., 64976., 54656., 81138., 72815., 73925., 75841., 81401.,\n",
       "       37537., 39780., 41784.]),\n",
       "       array([62647., 23337., 30373., 77661.]),\n",
       "       array([  111., 45096., 14375., 78182.]),\n",
       "       array([82218., 38532., 21308., 66912., 24938., 31060., 39018., 42707.]),\n",
       "       array([], dtype=float64), array([], dtype=float64),\n",
       "       array([], dtype=float64), array([], dtype=float64),\n",
       "       array([], dtype=float64), array([], dtype=float64),\n",
       "       array([], dtype=float64), array([], dtype=float64),\n",
       "       array([], dtype=float64), array([], dtype=float64),\n",
       "       array([], dtype=float64), array([], dtype=float64),\n",
       "       array([], dtype=float64), array([], dtype=float64)], dtype=object)"
      ]
     },
     "execution_count": 2,
     "metadata": {},
     "output_type": "execute_result"
    }
   ],
   "source": [
    "extractor.venues_grid[36]"
   ]
  },
  {
   "cell_type": "code",
   "execution_count": 6,
   "metadata": {},
   "outputs": [
    {
     "data": {
      "text/plain": [
       "array([], dtype=float64)"
      ]
     },
     "execution_count": 6,
     "metadata": {},
     "output_type": "execute_result"
    }
   ],
   "source": [
    "import numpy as np\n",
    "a = np.zeros((10, 10), dtype=np.ndarray)\n",
    "for i in range(10):\n",
    "    for j in range(10):\n",
    "        a[i][j] = np.array([])\n",
    "a[0,1]"
   ]
  },
  {
   "cell_type": "code",
   "execution_count": 7,
   "metadata": {},
   "outputs": [],
   "source": [
    "a[0,1]=np.array([11])"
   ]
  },
  {
   "cell_type": "code",
   "execution_count": 8,
   "metadata": {},
   "outputs": [
    {
     "data": {
      "text/plain": [
       "array([[array([], dtype=float64), array([11]), array([], dtype=float64),\n",
       "        array([], dtype=float64), array([], dtype=float64),\n",
       "        array([], dtype=float64), array([], dtype=float64),\n",
       "        array([], dtype=float64), array([], dtype=float64),\n",
       "        array([], dtype=float64)],\n",
       "       [array([], dtype=float64), array([], dtype=float64),\n",
       "        array([], dtype=float64), array([], dtype=float64),\n",
       "        array([], dtype=float64), array([], dtype=float64),\n",
       "        array([], dtype=float64), array([], dtype=float64),\n",
       "        array([], dtype=float64), array([], dtype=float64)],\n",
       "       [array([], dtype=float64), array([], dtype=float64),\n",
       "        array([], dtype=float64), array([], dtype=float64),\n",
       "        array([], dtype=float64), array([], dtype=float64),\n",
       "        array([], dtype=float64), array([], dtype=float64),\n",
       "        array([], dtype=float64), array([], dtype=float64)],\n",
       "       [array([], dtype=float64), array([], dtype=float64),\n",
       "        array([], dtype=float64), array([], dtype=float64),\n",
       "        array([], dtype=float64), array([], dtype=float64),\n",
       "        array([], dtype=float64), array([], dtype=float64),\n",
       "        array([], dtype=float64), array([], dtype=float64)],\n",
       "       [array([], dtype=float64), array([], dtype=float64),\n",
       "        array([], dtype=float64), array([], dtype=float64),\n",
       "        array([], dtype=float64), array([], dtype=float64),\n",
       "        array([], dtype=float64), array([], dtype=float64),\n",
       "        array([], dtype=float64), array([], dtype=float64)],\n",
       "       [array([], dtype=float64), array([], dtype=float64),\n",
       "        array([], dtype=float64), array([], dtype=float64),\n",
       "        array([], dtype=float64), array([], dtype=float64),\n",
       "        array([], dtype=float64), array([], dtype=float64),\n",
       "        array([], dtype=float64), array([], dtype=float64)],\n",
       "       [array([], dtype=float64), array([], dtype=float64),\n",
       "        array([], dtype=float64), array([], dtype=float64),\n",
       "        array([], dtype=float64), array([], dtype=float64),\n",
       "        array([], dtype=float64), array([], dtype=float64),\n",
       "        array([], dtype=float64), array([], dtype=float64)],\n",
       "       [array([], dtype=float64), array([], dtype=float64),\n",
       "        array([], dtype=float64), array([], dtype=float64),\n",
       "        array([], dtype=float64), array([], dtype=float64),\n",
       "        array([], dtype=float64), array([], dtype=float64),\n",
       "        array([], dtype=float64), array([], dtype=float64)],\n",
       "       [array([], dtype=float64), array([], dtype=float64),\n",
       "        array([], dtype=float64), array([], dtype=float64),\n",
       "        array([], dtype=float64), array([], dtype=float64),\n",
       "        array([], dtype=float64), array([], dtype=float64),\n",
       "        array([], dtype=float64), array([], dtype=float64)],\n",
       "       [array([], dtype=float64), array([], dtype=float64),\n",
       "        array([], dtype=float64), array([], dtype=float64),\n",
       "        array([], dtype=float64), array([], dtype=float64),\n",
       "        array([], dtype=float64), array([], dtype=float64),\n",
       "        array([], dtype=float64), array([], dtype=float64)]], dtype=object)"
      ]
     },
     "execution_count": 8,
     "metadata": {},
     "output_type": "execute_result"
    }
   ],
   "source": [
    "a"
   ]
  },
  {
   "cell_type": "code",
   "execution_count": null,
   "metadata": {},
   "outputs": [],
   "source": []
  }
 ],
 "metadata": {
  "kernelspec": {
   "display_name": "Python 3",
   "language": "python",
   "name": "python3"
  },
  "language_info": {
   "codemirror_mode": {
    "name": "ipython",
    "version": 3
   },
   "file_extension": ".py",
   "mimetype": "text/x-python",
   "name": "python",
   "nbconvert_exporter": "python",
   "pygments_lexer": "ipython3",
   "version": "3.6.2"
  }
 },
 "nbformat": 4,
 "nbformat_minor": 2
}
