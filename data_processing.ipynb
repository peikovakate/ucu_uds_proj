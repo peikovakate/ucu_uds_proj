{
 "cells": [
  {
   "cell_type": "code",
   "execution_count": 34,
   "metadata": {},
   "outputs": [],
   "source": [
    "f_in = open('shared_data/new york_anon_locationData_newcrawl.txt', 'r')\n",
    "foursquare_venues = {}\n",
    "for line in f_in:\n",
    "\tsplits = line.split('*;*')\n",
    "\tvenueid = splits[0]\n",
    "\tinfo = eval(splits[1])\n",
    "\tfoursquare_venues[venueid] = info"
   ]
  },
  {
   "cell_type": "code",
   "execution_count": 37,
   "metadata": {},
   "outputs": [],
   "source": [
    "# ny_venues = pd.DataFrame.from_dict(foursquare_venues, orient='index', \n",
    "#                        columns=['latitude', 'longitude', 'category', 'unique_users', 'total_check-ins', 'title'])\n",
    "# ny_venues.to_csv('shared_data/ny_venues.csv', \n",
    "#                  columns=['latitude', 'longitude', 'category', 'unique_users', 'total_check-ins', 'title'])"
   ]
  },
  {
   "cell_type": "code",
   "execution_count": 1,
   "metadata": {},
   "outputs": [],
   "source": [
    "import pandas as pd\n",
    "transitions = pd.read_csv('shared_data/new york_placenet_transitions.txt', sep=',', names=['A_id', 'B_id','A_datetime', 'B_datetime'])\n",
    "ny_venues = pd.read_csv('shared_data/ny_venues.csv', sep=',')"
   ]
  },
  {
   "cell_type": "code",
   "execution_count": 2,
   "metadata": {},
   "outputs": [
    {
     "data": {
      "text/html": [
       "<div>\n",
       "<style scoped>\n",
       "    .dataframe tbody tr th:only-of-type {\n",
       "        vertical-align: middle;\n",
       "    }\n",
       "\n",
       "    .dataframe tbody tr th {\n",
       "        vertical-align: top;\n",
       "    }\n",
       "\n",
       "    .dataframe thead th {\n",
       "        text-align: right;\n",
       "    }\n",
       "</style>\n",
       "<table border=\"1\" class=\"dataframe\">\n",
       "  <thead>\n",
       "    <tr style=\"text-align: right;\">\n",
       "      <th></th>\n",
       "      <th>A_id</th>\n",
       "      <th>B_id</th>\n",
       "      <th>A_datetime</th>\n",
       "      <th>B_datetime</th>\n",
       "    </tr>\n",
       "  </thead>\n",
       "  <tbody>\n",
       "    <tr>\n",
       "      <th>0</th>\n",
       "      <td>34814</td>\n",
       "      <td>32616</td>\n",
       "      <td>2011-04-01 21:46:59</td>\n",
       "      <td>2011-04-03 23:25:17</td>\n",
       "    </tr>\n",
       "    <tr>\n",
       "      <th>1</th>\n",
       "      <td>6136</td>\n",
       "      <td>41982</td>\n",
       "      <td>2011-04-06 03:03:56</td>\n",
       "      <td>2011-04-06 03:22:48</td>\n",
       "    </tr>\n",
       "    <tr>\n",
       "      <th>2</th>\n",
       "      <td>41982</td>\n",
       "      <td>35981</td>\n",
       "      <td>2011-04-06 03:22:48</td>\n",
       "      <td>2011-04-07 18:00:53</td>\n",
       "    </tr>\n",
       "    <tr>\n",
       "      <th>3</th>\n",
       "      <td>35981</td>\n",
       "      <td>6701</td>\n",
       "      <td>2011-04-07 18:00:53</td>\n",
       "      <td>2011-04-07 18:01:06</td>\n",
       "    </tr>\n",
       "    <tr>\n",
       "      <th>4</th>\n",
       "      <td>6701</td>\n",
       "      <td>57814</td>\n",
       "      <td>2011-04-07 18:01:06</td>\n",
       "      <td>2011-04-08 22:38:26</td>\n",
       "    </tr>\n",
       "  </tbody>\n",
       "</table>\n",
       "</div>"
      ],
      "text/plain": [
       "    A_id   B_id           A_datetime           B_datetime\n",
       "0  34814  32616  2011-04-01 21:46:59  2011-04-03 23:25:17\n",
       "1   6136  41982  2011-04-06 03:03:56  2011-04-06 03:22:48\n",
       "2  41982  35981  2011-04-06 03:22:48  2011-04-07 18:00:53\n",
       "3  35981   6701  2011-04-07 18:00:53  2011-04-07 18:01:06\n",
       "4   6701  57814  2011-04-07 18:01:06  2011-04-08 22:38:26"
      ]
     },
     "execution_count": 2,
     "metadata": {},
     "output_type": "execute_result"
    }
   ],
   "source": [
    "transitions.head()"
   ]
  },
  {
   "cell_type": "code",
   "execution_count": 2,
   "metadata": {
    "collapsed": true
   },
   "outputs": [
    {
     "data": {
      "text/html": [
       "<div>\n",
       "<style scoped>\n",
       "    .dataframe tbody tr th:only-of-type {\n",
       "        vertical-align: middle;\n",
       "    }\n",
       "\n",
       "    .dataframe tbody tr th {\n",
       "        vertical-align: top;\n",
       "    }\n",
       "\n",
       "    .dataframe thead th {\n",
       "        text-align: right;\n",
       "    }\n",
       "</style>\n",
       "<table border=\"1\" class=\"dataframe\">\n",
       "  <thead>\n",
       "    <tr style=\"text-align: right;\">\n",
       "      <th></th>\n",
       "      <th>venue_id</th>\n",
       "      <th>latitude</th>\n",
       "      <th>longitude</th>\n",
       "      <th>category</th>\n",
       "      <th>unique_users</th>\n",
       "      <th>total_check-ins</th>\n",
       "      <th>title</th>\n",
       "    </tr>\n",
       "  </thead>\n",
       "  <tbody>\n",
       "    <tr>\n",
       "      <th>0</th>\n",
       "      <td>42889</td>\n",
       "      <td>40.760265</td>\n",
       "      <td>-73.989105</td>\n",
       "      <td>Italian</td>\n",
       "      <td>217</td>\n",
       "      <td>291</td>\n",
       "      <td>Ristorante Da Rosina</td>\n",
       "    </tr>\n",
       "    <tr>\n",
       "      <th>1</th>\n",
       "      <td>57489</td>\n",
       "      <td>40.780704</td>\n",
       "      <td>-73.954704</td>\n",
       "      <td>Bakery</td>\n",
       "      <td>1291</td>\n",
       "      <td>2231</td>\n",
       "      <td>Le Pain Quotidien</td>\n",
       "    </tr>\n",
       "    <tr>\n",
       "      <th>2</th>\n",
       "      <td>42890</td>\n",
       "      <td>40.663925</td>\n",
       "      <td>-74.118230</td>\n",
       "      <td>Video Store</td>\n",
       "      <td>60</td>\n",
       "      <td>186</td>\n",
       "      <td>Blockbuster</td>\n",
       "    </tr>\n",
       "    <tr>\n",
       "      <th>3</th>\n",
       "      <td>74771</td>\n",
       "      <td>40.739840</td>\n",
       "      <td>-73.991770</td>\n",
       "      <td>Corporate ' Office</td>\n",
       "      <td>6</td>\n",
       "      <td>12</td>\n",
       "      <td>Day &amp; Night Office</td>\n",
       "    </tr>\n",
       "    <tr>\n",
       "      <th>4</th>\n",
       "      <td>42891</td>\n",
       "      <td>40.786987</td>\n",
       "      <td>-73.807530</td>\n",
       "      <td>Other - Food</td>\n",
       "      <td>29</td>\n",
       "      <td>40</td>\n",
       "      <td>Erin's Isle</td>\n",
       "    </tr>\n",
       "  </tbody>\n",
       "</table>\n",
       "</div>"
      ],
      "text/plain": [
       "   venue_id   latitude  longitude            category  unique_users  \\\n",
       "0     42889  40.760265 -73.989105             Italian           217   \n",
       "1     57489  40.780704 -73.954704              Bakery          1291   \n",
       "2     42890  40.663925 -74.118230         Video Store            60   \n",
       "3     74771  40.739840 -73.991770  Corporate ' Office             6   \n",
       "4     42891  40.786987 -73.807530        Other - Food            29   \n",
       "\n",
       "   total_check-ins                 title  \n",
       "0              291  Ristorante Da Rosina  \n",
       "1             2231     Le Pain Quotidien  \n",
       "2              186           Blockbuster  \n",
       "3               12    Day & Night Office  \n",
       "4               40           Erin's Isle  "
      ]
     },
     "execution_count": 2,
     "metadata": {},
     "output_type": "execute_result"
    }
   ],
   "source": [
    "ny_venues.head()"
   ]
  },
  {
   "cell_type": "code",
   "execution_count": 3,
   "metadata": {},
   "outputs": [
    {
     "data": {
      "text/html": [
       "<div>\n",
       "<style scoped>\n",
       "    .dataframe tbody tr th:only-of-type {\n",
       "        vertical-align: middle;\n",
       "    }\n",
       "\n",
       "    .dataframe tbody tr th {\n",
       "        vertical-align: top;\n",
       "    }\n",
       "\n",
       "    .dataframe thead th {\n",
       "        text-align: right;\n",
       "    }\n",
       "</style>\n",
       "<table border=\"1\" class=\"dataframe\">\n",
       "  <thead>\n",
       "    <tr style=\"text-align: right;\">\n",
       "      <th></th>\n",
       "      <th>venue_id</th>\n",
       "      <th>latitude</th>\n",
       "      <th>longitude</th>\n",
       "      <th>category</th>\n",
       "      <th>unique_users</th>\n",
       "      <th>total_check-ins</th>\n",
       "      <th>title</th>\n",
       "    </tr>\n",
       "  </thead>\n",
       "  <tbody>\n",
       "    <tr>\n",
       "      <th>2</th>\n",
       "      <td>42890</td>\n",
       "      <td>40.663925</td>\n",
       "      <td>-74.118230</td>\n",
       "      <td>Video Store</td>\n",
       "      <td>60</td>\n",
       "      <td>186</td>\n",
       "      <td>Blockbuster</td>\n",
       "    </tr>\n",
       "    <tr>\n",
       "      <th>3331</th>\n",
       "      <td>1685</td>\n",
       "      <td>40.661945</td>\n",
       "      <td>-73.695305</td>\n",
       "      <td>Video Store</td>\n",
       "      <td>73</td>\n",
       "      <td>230</td>\n",
       "      <td>Blockbuster</td>\n",
       "    </tr>\n",
       "    <tr>\n",
       "      <th>13754</th>\n",
       "      <td>6846</td>\n",
       "      <td>40.662220</td>\n",
       "      <td>-73.840780</td>\n",
       "      <td>Video Store</td>\n",
       "      <td>26</td>\n",
       "      <td>51</td>\n",
       "      <td>Blockbuster</td>\n",
       "    </tr>\n",
       "    <tr>\n",
       "      <th>19878</th>\n",
       "      <td>52811</td>\n",
       "      <td>40.730320</td>\n",
       "      <td>-73.888030</td>\n",
       "      <td>Video Store</td>\n",
       "      <td>27</td>\n",
       "      <td>58</td>\n",
       "      <td>Blockbuster</td>\n",
       "    </tr>\n",
       "    <tr>\n",
       "      <th>21738</th>\n",
       "      <td>53737</td>\n",
       "      <td>40.775980</td>\n",
       "      <td>-73.910510</td>\n",
       "      <td>Video Store</td>\n",
       "      <td>33</td>\n",
       "      <td>104</td>\n",
       "      <td>Blockbuster</td>\n",
       "    </tr>\n",
       "  </tbody>\n",
       "</table>\n",
       "</div>"
      ],
      "text/plain": [
       "       venue_id   latitude  longitude     category  unique_users  \\\n",
       "2         42890  40.663925 -74.118230  Video Store            60   \n",
       "3331       1685  40.661945 -73.695305  Video Store            73   \n",
       "13754      6846  40.662220 -73.840780  Video Store            26   \n",
       "19878     52811  40.730320 -73.888030  Video Store            27   \n",
       "21738     53737  40.775980 -73.910510  Video Store            33   \n",
       "\n",
       "       total_check-ins        title  \n",
       "2                  186  Blockbuster  \n",
       "3331               230  Blockbuster  \n",
       "13754               51  Blockbuster  \n",
       "19878               58  Blockbuster  \n",
       "21738              104  Blockbuster  "
      ]
     },
     "execution_count": 3,
     "metadata": {},
     "output_type": "execute_result"
    }
   ],
   "source": [
    "ny_venues[ny_venues.title == 'Blockbuster'].head()\n",
    "    \n",
    "    \n",
    "    \n",
    "    \n",
    "    "
   ]
  },
  {
   "cell_type": "code",
   "execution_count": 17,
   "metadata": {},
   "outputs": [
    {
     "data": {
      "text/plain": [
       "40.763992"
      ]
     },
     "execution_count": 17,
     "metadata": {},
     "output_type": "execute_result"
    }
   ],
   "source": [
    "venues"
   ]
  },
  {
   "cell_type": "code",
   "execution_count": 4,
   "metadata": {
    "collapsed": false
   },
   "outputs": [
    {
     "name": "stdout",
     "output_type": "stream",
     "text": [
      "40.99928\n",
      "40.415005\n",
      "-73.48129\n",
      "-74.28631\n"
     ]
    }
   ],
   "source": [
    "print(max(ny_venues.latitude))\n",
    "print(min(ny_venues.latitude))\n",
    "print(max(ny_venues.longitude))\n",
    "print(min(ny_venues.longitude))\n",
    "# for index, row in ny_venues.iterrows():\n",
    "#     print(row.latitude"
   ]
  },
  {
   "cell_type": "code",
   "execution_count": 10,
   "metadata": {},
   "outputs": [],
   "source": [
    "from geopy import distance\n",
    "from math import pi, cos\n",
    "\n",
    "\n",
    "class Geometry:\n",
    "    R_EARTH = 6371.0 \n",
    "    \n",
    "    #calculating new latitude in n meters \n",
    "    @staticmethod\n",
    "    def _get_latitude(latitude, n_meters):\n",
    "        if abs(latitude)>90:\n",
    "            return 0\n",
    "        dy = n_meters/1000\n",
    "        return latitude  + (dy / Geometry.R_EARTH) * (180 / pi);\n",
    "    \n",
    "    #calculating new longtitude in n meters \n",
    "    @staticmethod\n",
    "    def _get_longtitude(latitude, longitude, n_meters):\n",
    "#         check real values\n",
    "        if abs(latitude)>90 or abs(longitude)>180:\n",
    "            return 0\n",
    "        dx = n_meters/1000\n",
    "        return longitude + (dx / Geometry.R_EARTH) * (180 / pi) / cos(latitude * pi/180);\n",
    "    \n",
    "    @staticmethod\n",
    "    def get_places_around(center_coordinates, radius, venues):\n",
    "#         circle area\n",
    "        places_ids = []\n",
    "        for index, row in venues.iterrows():\n",
    "            dist = distance.distance(center_coordinates, (row.latitude, row.longitude)).m\n",
    "            if dist<=radius:\n",
    "                places_ids.append(row.venue_id)\n",
    "        return places_ids\n",
    "    \n",
    "    def get_rect_points(center, size):\n",
    "        radius = size/2\n",
    "        \n",
    "        # A-B\n",
    "        # D-C\n",
    "        a_lat = Geometry._get_latitude(center[0], radius)\n",
    "        a_long = Geometry._get_longtitude(center[0], center[1], -radius)\n",
    "        \n",
    "        b_lat = Geometry._get_latitude(center[0], radius)\n",
    "        b_long = Geometry._get_longtitude(center[0], center[1], radius)\n",
    "        \n",
    "        c_lat = Geometry._get_latitude(center[0], -radius)\n",
    "        c_long = Geometry._get_longtitude(center[0], center[1], radius)\n",
    "        \n",
    "        d_lat = Geometry._get_latitude(center[0], -radius)\n",
    "        d_long = Geometry._get_longtitude(center[0], center[1], -radius)\n",
    "        \n",
    "        coordinates = [(a_lat, a_long), (b_lat, b_long), (c_lat, c_long), (d_lat, d_long)]\n",
    "        return coordinates\n",
    "    \n",
    "    def get_cell_centres:\n",
    "        "
   ]
  },
  {
   "cell_type": "code",
   "execution_count": 12,
   "metadata": {},
   "outputs": [
    {
     "data": {
      "text/plain": [
       "[(40.00089932160592, -73.00117398097981),\n",
       " (40.00089932160592, -72.99882601902019),\n",
       " (39.99910067839408, -72.99882601902019),\n",
       " (39.99910067839408, -73.00117398097981)]"
      ]
     },
     "execution_count": 12,
     "metadata": {},
     "output_type": "execute_result"
    }
   ],
   "source": [
    "Geometry.get_rect_points(center=(40, -73), size=200)"
   ]
  },
  {
   "cell_type": "code",
   "execution_count": 23,
   "metadata": {},
   "outputs": [
    {
     "data": {
      "text/plain": [
       "213.48464238941"
      ]
     },
     "execution_count": 23,
     "metadata": {},
     "output_type": "execute_result"
    }
   ],
   "source": [
    "distance.distance((40, 74), (40, 74.0025)).m"
   ]
  },
  {
   "cell_type": "code",
   "execution_count": null,
   "metadata": {},
   "outputs": [],
   "source": [
    "# from geometry import Geometry \n",
    "places = Geometry.get_places_around(center_coordinates=(40.760265,-73.989105), radius=500, venues=ny_venues)\n",
    "print(places)"
   ]
  },
  {
   "cell_type": "code",
   "execution_count": 52,
   "metadata": {},
   "outputs": [],
   "source": [
    "import numpy as np\n",
    "lonMin = -74.1  # minimum longitude\n",
    "lonMax = -73.7\n",
    "lonStep = 0.01 # defines cell size\n",
    " \n",
    "latMin = 40.6  # minimum latitude\n",
    "latMax = 41.0\n",
    "latStep = 0.01  # defines cell size\n",
    " \n",
    "latLen = int((latMax - latMin) / latStep) + 1  # number of cells on the y-axis\n",
    "lonLen = int((lonMax - lonMin) / lonStep) + 1  # number of cells on the x-axis\n",
    "\n",
    "venues_grid=np.zeros((latLen, lonLen), dtype=np.ndarray)\n",
    "\n",
    "for index, row in ny_venues.iterrows():\n",
    "        lat = row.latitude\n",
    "        longit = row.longitude\n",
    "        # if outside the grid then ingore point\n",
    "        if (lat < latMin) or (lat > latMax) or (longit < lonMin) or (longit > lonMax):\n",
    "            continue\n",
    "        cx = int((longit - lonMin) / lonStep)\n",
    "        cy = int((lat - latMin) / latStep)        \n",
    "        venues_grid[cy, cx]=np.append(venues_grid[cy, cx], row.venue_id)\n",
    "            \n",
    "\n"
   ]
  },
  {
   "cell_type": "code",
   "execution_count": 12,
   "metadata": {},
   "outputs": [],
   "source": [
    "import numpy as np\n",
    "a = np.zeros((10, 10))"
   ]
  },
  {
   "cell_type": "code",
   "execution_count": 30,
   "metadata": {},
   "outputs": [],
   "source": [
    "a = np.array([])"
   ]
  },
  {
   "cell_type": "code",
   "execution_count": 1,
   "metadata": {},
   "outputs": [],
   "source": [
    "from feature_extractor import FeatureExtractor\n",
    "import pandas as pd\n",
    "transitions = pd.read_csv('shared_data/new york_placenet_transitions.txt', sep=',', names=['A_id', 'B_id','A_datetime', 'B_datetime'])\n",
    "ny_venues = pd.read_csv('shared_data/ny_venues.csv', sep=',')\n",
    "extractor = FeatureExtractor(ny_venues, transitions)\n",
    "extractor.calculate_squares()"
   ]
  },
  {
   "cell_type": "code",
   "execution_count": 2,
   "metadata": {},
   "outputs": [
    {
     "data": {
      "text/plain": [
       "array([array([], dtype=float64), array([], dtype=float64),\n",
       "       array([], dtype=float64), array([], dtype=float64),\n",
       "       array([], dtype=float64), array([], dtype=float64),\n",
       "       array([], dtype=float64), array([], dtype=float64),\n",
       "       array([], dtype=float64), array([], dtype=float64),\n",
       "       array([], dtype=float64), array([], dtype=float64),\n",
       "       array([], dtype=float64), array([], dtype=float64),\n",
       "       array([], dtype=float64), array([], dtype=float64),\n",
       "       array([], dtype=float64), array([], dtype=float64),\n",
       "       array([], dtype=float64), array([], dtype=float64),\n",
       "       array([], dtype=float64), array([], dtype=float64),\n",
       "       array([51661., 64976., 54656., 81138., 72815., 73925., 75841., 81401.,\n",
       "       37537., 39780., 41784.]),\n",
       "       array([62647., 23337., 30373., 77661.]),\n",
       "       array([  111., 45096., 14375., 78182.]),\n",
       "       array([82218., 38532., 21308., 66912., 24938., 31060., 39018., 42707.]),\n",
       "       array([], dtype=float64), array([], dtype=float64),\n",
       "       array([], dtype=float64), array([], dtype=float64),\n",
       "       array([], dtype=float64), array([], dtype=float64),\n",
       "       array([], dtype=float64), array([], dtype=float64),\n",
       "       array([], dtype=float64), array([], dtype=float64),\n",
       "       array([], dtype=float64), array([], dtype=float64),\n",
       "       array([], dtype=float64), array([], dtype=float64)], dtype=object)"
      ]
     },
     "execution_count": 2,
     "metadata": {},
     "output_type": "execute_result"
    }
   ],
   "source": [
    "extractor.venues_grid[36]"
   ]
  },
  {
   "cell_type": "code",
   "execution_count": 28,
   "metadata": {},
   "outputs": [],
   "source": [
    "import numpy as np\n",
    "a = np.zeros((10, 10))"
   ]
  },
  {
   "cell_type": "code",
   "execution_count": 35,
   "metadata": {},
   "outputs": [
    {
     "data": {
      "text/plain": [
       "True"
      ]
     },
     "execution_count": 35,
     "metadata": {},
     "output_type": "execute_result"
    }
   ],
   "source": [
    "b = (1, 2)\n",
    "c = (1, 2)\n",
    "b==c"
   ]
  },
  {
   "cell_type": "code",
   "execution_count": 33,
   "metadata": {},
   "outputs": [
    {
     "data": {
      "text/plain": [
       "tuple"
      ]
     },
     "execution_count": 33,
     "metadata": {},
     "output_type": "execute_result"
    }
   ],
   "source": [
    "type(b)"
   ]
  },
  {
   "cell_type": "code",
   "execution_count": 21,
   "metadata": {},
   "outputs": [
    {
     "ename": "NameError",
     "evalue": "name 'mean' is not defined",
     "output_type": "error",
     "traceback": [
      "\u001b[1;31m---------------------------------------------------------------------------\u001b[0m",
      "\u001b[1;31mNameError\u001b[0m                                 Traceback (most recent call last)",
      "\u001b[1;32m<ipython-input-21-3bd78634a017>\u001b[0m in \u001b[0;36m<module>\u001b[1;34m()\u001b[0m\n\u001b[0;32m      1\u001b[0m \u001b[0mb\u001b[0m \u001b[1;33m=\u001b[0m \u001b[1;33m[\u001b[0m\u001b[1;36m1\u001b[0m\u001b[1;33m,\u001b[0m \u001b[1;36m2\u001b[0m\u001b[1;33m,\u001b[0m \u001b[1;36m3\u001b[0m\u001b[1;33m]\u001b[0m\u001b[1;33m\u001b[0m\u001b[0m\n\u001b[1;32m----> 2\u001b[1;33m \u001b[0mmean\u001b[0m\u001b[1;33m(\u001b[0m\u001b[0mb\u001b[0m\u001b[1;33m)\u001b[0m\u001b[1;33m\u001b[0m\u001b[0m\n\u001b[0m",
      "\u001b[1;31mNameError\u001b[0m: name 'mean' is not defined"
     ]
    }
   ],
   "source": [
    "b = [1, 2, 3]\n",
    "mean(b)"
   ]
  },
  {
   "cell_type": "code",
   "execution_count": 23,
   "metadata": {},
   "outputs": [
    {
     "data": {
      "text/plain": [
       "0"
      ]
     },
     "execution_count": 23,
     "metadata": {},
     "output_type": "execute_result"
    }
   ],
   "source": [
    "c=[]\n",
    "len(c)"
   ]
  },
  {
   "cell_type": "code",
   "execution_count": 24,
   "metadata": {},
   "outputs": [],
   "source": [
    "data = pd.read_csv('features.csv')"
   ]
  },
  {
   "cell_type": "code",
   "execution_count": 25,
   "metadata": {},
   "outputs": [
    {
     "data": {
      "text/html": [
       "<div>\n",
       "<style scoped>\n",
       "    .dataframe tbody tr th:only-of-type {\n",
       "        vertical-align: middle;\n",
       "    }\n",
       "\n",
       "    .dataframe tbody tr th {\n",
       "        vertical-align: top;\n",
       "    }\n",
       "\n",
       "    .dataframe thead th {\n",
       "        text-align: right;\n",
       "    }\n",
       "</style>\n",
       "<table border=\"1\" class=\"dataframe\">\n",
       "  <thead>\n",
       "    <tr style=\"text-align: right;\">\n",
       "      <th></th>\n",
       "      <th>Unnamed: 0</th>\n",
       "      <th>cy</th>\n",
       "      <th>cx</th>\n",
       "      <th>latitude</th>\n",
       "      <th>longitude</th>\n",
       "      <th>density</th>\n",
       "      <th>neighbors_entropy</th>\n",
       "      <th>competitiveness</th>\n",
       "      <th>average_check_ins</th>\n",
       "    </tr>\n",
       "  </thead>\n",
       "  <tbody>\n",
       "    <tr>\n",
       "      <th>0</th>\n",
       "      <td>0</td>\n",
       "      <td>0.0</td>\n",
       "      <td>0.0</td>\n",
       "      <td>40.65</td>\n",
       "      <td>-74.05</td>\n",
       "      <td>0.0</td>\n",
       "      <td>0.000000</td>\n",
       "      <td>0.00</td>\n",
       "      <td>0.0</td>\n",
       "    </tr>\n",
       "    <tr>\n",
       "      <th>1</th>\n",
       "      <td>1</td>\n",
       "      <td>0.0</td>\n",
       "      <td>1.0</td>\n",
       "      <td>40.65</td>\n",
       "      <td>-74.04</td>\n",
       "      <td>0.0</td>\n",
       "      <td>0.000000</td>\n",
       "      <td>0.00</td>\n",
       "      <td>0.0</td>\n",
       "    </tr>\n",
       "    <tr>\n",
       "      <th>2</th>\n",
       "      <td>2</td>\n",
       "      <td>0.0</td>\n",
       "      <td>2.0</td>\n",
       "      <td>40.65</td>\n",
       "      <td>-74.03</td>\n",
       "      <td>1.0</td>\n",
       "      <td>0.000000</td>\n",
       "      <td>0.00</td>\n",
       "      <td>0.0</td>\n",
       "    </tr>\n",
       "    <tr>\n",
       "      <th>3</th>\n",
       "      <td>3</td>\n",
       "      <td>0.0</td>\n",
       "      <td>3.0</td>\n",
       "      <td>40.65</td>\n",
       "      <td>-74.02</td>\n",
       "      <td>8.0</td>\n",
       "      <td>2.405639</td>\n",
       "      <td>0.00</td>\n",
       "      <td>0.0</td>\n",
       "    </tr>\n",
       "    <tr>\n",
       "      <th>4</th>\n",
       "      <td>4</td>\n",
       "      <td>0.0</td>\n",
       "      <td>4.0</td>\n",
       "      <td>40.65</td>\n",
       "      <td>-74.01</td>\n",
       "      <td>25.0</td>\n",
       "      <td>4.665169</td>\n",
       "      <td>-0.04</td>\n",
       "      <td>0.0</td>\n",
       "    </tr>\n",
       "  </tbody>\n",
       "</table>\n",
       "</div>"
      ],
      "text/plain": [
       "   Unnamed: 0   cy   cx  latitude  longitude  density  neighbors_entropy  \\\n",
       "0           0  0.0  0.0     40.65     -74.05      0.0           0.000000   \n",
       "1           1  0.0  1.0     40.65     -74.04      0.0           0.000000   \n",
       "2           2  0.0  2.0     40.65     -74.03      1.0           0.000000   \n",
       "3           3  0.0  3.0     40.65     -74.02      8.0           2.405639   \n",
       "4           4  0.0  4.0     40.65     -74.01     25.0           4.665169   \n",
       "\n",
       "   competitiveness  average_check_ins  \n",
       "0             0.00                0.0  \n",
       "1             0.00                0.0  \n",
       "2             0.00                0.0  \n",
       "3             0.00                0.0  \n",
       "4            -0.04                0.0  "
      ]
     },
     "execution_count": 25,
     "metadata": {},
     "output_type": "execute_result"
    }
   ],
   "source": [
    "data.head()"
   ]
  },
  {
   "cell_type": "code",
   "execution_count": 68,
   "metadata": {},
   "outputs": [
    {
     "data": {
      "text/plain": [
       "43"
      ]
     },
     "execution_count": 68,
     "metadata": {},
     "output_type": "execute_result"
    }
   ],
   "source": [
    "ny_venues[ny_venues.venue_id==0]['total_check-ins'].values[0]"
   ]
  },
  {
   "cell_type": "code",
   "execution_count": 63,
   "metadata": {},
   "outputs": [],
   "source": [
    "# transitions = pd.read_csv('shared_data/new york_placenet_transitions.txt', sep=',', names=['A_id', 'B_id','A_datetime', 'B_datetime'])\n",
    "features2 = pd.read_csv('features2.csv', sep=',')\n",
    "ny_venues = pd.read_csv('shared_data/ny_venues.csv', sep=',')"
   ]
  },
  {
   "cell_type": "code",
   "execution_count": 99,
   "metadata": {},
   "outputs": [
    {
     "data": {
      "text/plain": [
       "array([  75.25948493,  143.72634633,  923.97498733,  323.73907037,\n",
       "       1177.47612794,   78.88602004,   29.13947057,   24.9       ,\n",
       "         41.55741763,  113.74767001])"
      ]
     },
     "execution_count": 99,
     "metadata": {},
     "output_type": "execute_result"
    }
   ],
   "source": [
    "import numpy as np\n",
    "import pandas as pd\n",
    "filename = 'features2.csv'\n",
    "\n",
    "def tarik_model(dens, area_pop, trans_dens, inc_flow, neighb_entr, compet):\n",
    "    return (dens*0.3+area_pop*0.02+trans_dens*0.02+inc_flow*0.02+neighb_entr*0.3+compet*0.3)*6\n",
    "\n",
    "features_frame = pd.read_csv(filename, sep=',')\n",
    "\n",
    "predicts = np.array([])\n",
    "for index, row in features_frame.iterrows():\n",
    "    predicted_value = tarik_model(row.density, row.area_popularity, row.transition_density, row.incoming_flow,\n",
    "                                 row.neighbors_entropy, row.competitiveness)\n",
    "    predicts = np.append(predicts, predicted_value)\n",
    "\n",
    "\n"
   ]
  },
  {
   "cell_type": "code",
   "execution_count": 92,
   "metadata": {},
   "outputs": [
    {
     "data": {
      "text/html": [
       "<div>\n",
       "<style scoped>\n",
       "    .dataframe tbody tr th:only-of-type {\n",
       "        vertical-align: middle;\n",
       "    }\n",
       "\n",
       "    .dataframe tbody tr th {\n",
       "        vertical-align: top;\n",
       "    }\n",
       "\n",
       "    .dataframe thead th {\n",
       "        text-align: right;\n",
       "    }\n",
       "</style>\n",
       "<table border=\"1\" class=\"dataframe\">\n",
       "  <thead>\n",
       "    <tr style=\"text-align: right;\">\n",
       "      <th></th>\n",
       "      <th>Unnamed: 0</th>\n",
       "      <th>latitude</th>\n",
       "      <th>longitude</th>\n",
       "      <th>density</th>\n",
       "      <th>neighbors_entropy</th>\n",
       "      <th>competitiveness</th>\n",
       "      <th>area_popularity</th>\n",
       "      <th>transition_density</th>\n",
       "      <th>incoming_flow</th>\n",
       "      <th>average_check_ins</th>\n",
       "      <th>venue_id</th>\n",
       "    </tr>\n",
       "  </thead>\n",
       "  <tbody>\n",
       "    <tr>\n",
       "      <th>0</th>\n",
       "      <td>0</td>\n",
       "      <td>40.646133</td>\n",
       "      <td>-73.90315</td>\n",
       "      <td>20.0</td>\n",
       "      <td>4.510825</td>\n",
       "      <td>-0.100000</td>\n",
       "      <td>171.0</td>\n",
       "      <td>37.0</td>\n",
       "      <td>53.0</td>\n",
       "      <td>81.0</td>\n",
       "      <td>59479.0</td>\n",
       "    </tr>\n",
       "    <tr>\n",
       "      <th>1</th>\n",
       "      <td>1</td>\n",
       "      <td>40.700645</td>\n",
       "      <td>-73.94293</td>\n",
       "      <td>43.0</td>\n",
       "      <td>5.007660</td>\n",
       "      <td>-0.093023</td>\n",
       "      <td>326.0</td>\n",
       "      <td>97.0</td>\n",
       "      <td>56.0</td>\n",
       "      <td>137.0</td>\n",
       "      <td>162.0</td>\n",
       "    </tr>\n",
       "    <tr>\n",
       "      <th>2</th>\n",
       "      <td>2</td>\n",
       "      <td>40.702366</td>\n",
       "      <td>-74.01126</td>\n",
       "      <td>126.0</td>\n",
       "      <td>7.167056</td>\n",
       "      <td>-0.047619</td>\n",
       "      <td>3802.0</td>\n",
       "      <td>670.0</td>\n",
       "      <td>1231.0</td>\n",
       "      <td>296.0</td>\n",
       "      <td>50006.0</td>\n",
       "    </tr>\n",
       "    <tr>\n",
       "      <th>3</th>\n",
       "      <td>3</td>\n",
       "      <td>40.745537</td>\n",
       "      <td>-73.90356</td>\n",
       "      <td>72.0</td>\n",
       "      <td>9.535595</td>\n",
       "      <td>-0.013889</td>\n",
       "      <td>983.0</td>\n",
       "      <td>286.0</td>\n",
       "      <td>206.0</td>\n",
       "      <td>165.0</td>\n",
       "      <td>14304.0</td>\n",
       "    </tr>\n",
       "    <tr>\n",
       "      <th>4</th>\n",
       "      <td>4</td>\n",
       "      <td>40.827675</td>\n",
       "      <td>-73.92475</td>\n",
       "      <td>57.0</td>\n",
       "      <td>9.606036</td>\n",
       "      <td>-0.052632</td>\n",
       "      <td>5837.0</td>\n",
       "      <td>1388.0</td>\n",
       "      <td>1589.0</td>\n",
       "      <td>233.0</td>\n",
       "      <td>488.0</td>\n",
       "    </tr>\n",
       "    <tr>\n",
       "      <th>5</th>\n",
       "      <td>5</td>\n",
       "      <td>40.746216</td>\n",
       "      <td>-73.61775</td>\n",
       "      <td>29.0</td>\n",
       "      <td>4.395682</td>\n",
       "      <td>-0.103448</td>\n",
       "      <td>107.0</td>\n",
       "      <td>23.0</td>\n",
       "      <td>28.0</td>\n",
       "      <td>171.0</td>\n",
       "      <td>817.0</td>\n",
       "    </tr>\n",
       "    <tr>\n",
       "      <th>6</th>\n",
       "      <td>6</td>\n",
       "      <td>40.700405</td>\n",
       "      <td>-73.81420</td>\n",
       "      <td>5.0</td>\n",
       "      <td>1.921928</td>\n",
       "      <td>-0.200000</td>\n",
       "      <td>97.0</td>\n",
       "      <td>32.0</td>\n",
       "      <td>13.0</td>\n",
       "      <td>31.0</td>\n",
       "      <td>79385.0</td>\n",
       "    </tr>\n",
       "    <tr>\n",
       "      <th>7</th>\n",
       "      <td>7</td>\n",
       "      <td>40.702248</td>\n",
       "      <td>-73.79154</td>\n",
       "      <td>8.0</td>\n",
       "      <td>2.750000</td>\n",
       "      <td>-0.250000</td>\n",
       "      <td>32.0</td>\n",
       "      <td>10.0</td>\n",
       "      <td>8.0</td>\n",
       "      <td>97.0</td>\n",
       "      <td>1226.0</td>\n",
       "    </tr>\n",
       "    <tr>\n",
       "      <th>8</th>\n",
       "      <td>8</td>\n",
       "      <td>40.870617</td>\n",
       "      <td>-73.84654</td>\n",
       "      <td>10.0</td>\n",
       "      <td>3.654121</td>\n",
       "      <td>-0.100000</td>\n",
       "      <td>97.0</td>\n",
       "      <td>11.0</td>\n",
       "      <td>35.0</td>\n",
       "      <td>74.0</td>\n",
       "      <td>1437.0</td>\n",
       "    </tr>\n",
       "    <tr>\n",
       "      <th>9</th>\n",
       "      <td>9</td>\n",
       "      <td>40.741860</td>\n",
       "      <td>-73.64054</td>\n",
       "      <td>27.0</td>\n",
       "      <td>7.230187</td>\n",
       "      <td>-0.037037</td>\n",
       "      <td>303.0</td>\n",
       "      <td>48.0</td>\n",
       "      <td>84.0</td>\n",
       "      <td>283.0</td>\n",
       "      <td>1512.0</td>\n",
       "    </tr>\n",
       "  </tbody>\n",
       "</table>\n",
       "</div>"
      ],
      "text/plain": [
       "   Unnamed: 0   latitude  longitude  density  neighbors_entropy  \\\n",
       "0           0  40.646133  -73.90315     20.0           4.510825   \n",
       "1           1  40.700645  -73.94293     43.0           5.007660   \n",
       "2           2  40.702366  -74.01126    126.0           7.167056   \n",
       "3           3  40.745537  -73.90356     72.0           9.535595   \n",
       "4           4  40.827675  -73.92475     57.0           9.606036   \n",
       "5           5  40.746216  -73.61775     29.0           4.395682   \n",
       "6           6  40.700405  -73.81420      5.0           1.921928   \n",
       "7           7  40.702248  -73.79154      8.0           2.750000   \n",
       "8           8  40.870617  -73.84654     10.0           3.654121   \n",
       "9           9  40.741860  -73.64054     27.0           7.230187   \n",
       "\n",
       "   competitiveness  area_popularity  transition_density  incoming_flow  \\\n",
       "0        -0.100000            171.0                37.0           53.0   \n",
       "1        -0.093023            326.0                97.0           56.0   \n",
       "2        -0.047619           3802.0               670.0         1231.0   \n",
       "3        -0.013889            983.0               286.0          206.0   \n",
       "4        -0.052632           5837.0              1388.0         1589.0   \n",
       "5        -0.103448            107.0                23.0           28.0   \n",
       "6        -0.200000             97.0                32.0           13.0   \n",
       "7        -0.250000             32.0                10.0            8.0   \n",
       "8        -0.100000             97.0                11.0           35.0   \n",
       "9        -0.037037            303.0                48.0           84.0   \n",
       "\n",
       "   average_check_ins  venue_id  \n",
       "0               81.0   59479.0  \n",
       "1              137.0     162.0  \n",
       "2              296.0   50006.0  \n",
       "3              165.0   14304.0  \n",
       "4              233.0     488.0  \n",
       "5              171.0     817.0  \n",
       "6               31.0   79385.0  \n",
       "7               97.0    1226.0  \n",
       "8               74.0    1437.0  \n",
       "9              283.0    1512.0  "
      ]
     },
     "execution_count": 92,
     "metadata": {},
     "output_type": "execute_result"
    }
   ],
   "source": [
    "features_frame.head(10)"
   ]
  },
  {
   "cell_type": "code",
   "execution_count": null,
   "metadata": {},
   "outputs": [],
   "source": []
  },
  {
   "cell_type": "code",
   "execution_count": null,
   "metadata": {},
   "outputs": [],
   "source": []
  }
 ],
 "metadata": {
  "kernelspec": {
   "display_name": "Python 3",
   "language": "python",
   "name": "python3"
  },
  "language_info": {
   "codemirror_mode": {
    "name": "ipython",
    "version": 3
   },
   "file_extension": ".py",
   "mimetype": "text/x-python",
   "name": "python",
   "nbconvert_exporter": "python",
   "pygments_lexer": "ipython3",
   "version": "3.6.2"
  }
 },
 "nbformat": 4,
 "nbformat_minor": 2
}
